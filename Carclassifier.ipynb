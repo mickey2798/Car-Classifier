{
  "nbformat": 4,
  "nbformat_minor": 0,
  "metadata": {
    "colab": {
      "name": "Carclassifier",
      "provenance": [],
      "toc_visible": true
    },
    "kernelspec": {
      "name": "python3",
      "display_name": "Python 3"
    },
    "accelerator": "GPU"
  },
  "cells": [
    {
      "cell_type": "code",
      "metadata": {
        "id": "FIFeDFaCSJ3M",
        "colab_type": "code",
        "colab": {}
      },
      "source": [
        "!pip install -U -q PyDrive\n",
        "from pydrive.auth import GoogleAuth\n",
        "from pydrive.drive import GoogleDrive\n",
        "from google.colab import auth\n",
        "from oauth2client.client import GoogleCredentials# Authenticate and create the PyDrive client.\n",
        "auth.authenticate_user()\n",
        "gauth = GoogleAuth()\n",
        "gauth.credentials = GoogleCredentials.get_application_default()\n",
        "drive = GoogleDrive(gauth)"
      ],
      "execution_count": 0,
      "outputs": []
    },
    {
      "cell_type": "code",
      "metadata": {
        "id": "-PDY-vUPUIj3",
        "colab_type": "code",
        "colab": {}
      },
      "source": [
        "link = 'https://drive.google.com/open?id=1XUwCbYsuUjrwuS9VyNy04cRpOATngQdy'"
      ],
      "execution_count": 0,
      "outputs": []
    },
    {
      "cell_type": "code",
      "metadata": {
        "id": "-VVFJ4lBUpBP",
        "colab_type": "code",
        "outputId": "66ac385d-7cb3-4a63-8585-4fa72c9c4c91",
        "colab": {
          "base_uri": "https://localhost:8080/",
          "height": 34
        }
      },
      "source": [
        "fluff, id = link.split('=')\n",
        "print (id)"
      ],
      "execution_count": 0,
      "outputs": [
        {
          "output_type": "stream",
          "text": [
            "1XUwCbYsuUjrwuS9VyNy04cRpOATngQdy\n"
          ],
          "name": "stdout"
        }
      ]
    },
    {
      "cell_type": "code",
      "metadata": {
        "id": "f6L-i7a9UqlA",
        "colab_type": "code",
        "colab": {}
      },
      "source": [
        "downloaded = drive.CreateFile({'id':id}) \n",
        "downloaded.GetContentFile('training-testing.zip') "
      ],
      "execution_count": 0,
      "outputs": []
    },
    {
      "cell_type": "code",
      "metadata": {
        "id": "F7iRSnhUU1Rj",
        "colab_type": "code",
        "colab": {}
      },
      "source": [
        "import os\n",
        "os.chdir('/content')"
      ],
      "execution_count": 0,
      "outputs": []
    },
    {
      "cell_type": "code",
      "metadata": {
        "id": "MzaSh1N71Lli",
        "colab_type": "code",
        "outputId": "8bb350d0-505d-46c5-8886-2df074394981",
        "colab": {
          "base_uri": "https://localhost:8080/",
          "height": 34
        }
      },
      "source": [
        "!ls"
      ],
      "execution_count": 0,
      "outputs": [
        {
          "output_type": "stream",
          "text": [
            "adc.json  sample_data  training-testing.zip\n"
          ],
          "name": "stdout"
        }
      ]
    },
    {
      "cell_type": "code",
      "metadata": {
        "id": "D9VlqfBcU51o",
        "colab_type": "code",
        "outputId": "9d72db2a-85df-424a-ef6f-b3e15d5fc742",
        "colab": {
          "base_uri": "https://localhost:8080/",
          "height": 1000
        }
      },
      "source": [
        "!unzip training-testing.zip"
      ],
      "execution_count": 0,
      "outputs": [
        {
          "output_type": "stream",
          "text": [
            "Archive:  training-testing.zip\n",
            "   creating: training-testing/\n",
            "   creating: training-testing/test/\n",
            "   creating: training-testing/test/hyundai_i10/\n",
            "  inflating: training-testing/test/hyundai_i10/66.jpg  \n",
            "  inflating: training-testing/test/hyundai_i10/68.jpg  \n",
            "  inflating: training-testing/test/hyundai_i10/72.jpg  \n",
            "  inflating: training-testing/test/hyundai_i10/252.jpg  \n",
            "  inflating: training-testing/test/hyundai_i10/253.jpg  \n",
            "  inflating: training-testing/test/hyundai_i10/254.jpg  \n",
            "  inflating: training-testing/test/hyundai_i10/255.png  \n",
            "  inflating: training-testing/test/hyundai_i10/256.png  \n",
            "  inflating: training-testing/test/hyundai_i10/257.jpg  \n",
            "  inflating: training-testing/test/hyundai_i10/258.jpg  \n",
            "  inflating: training-testing/test/hyundai_i10/259.jpg  \n",
            "  inflating: training-testing/test/hyundai_i10/260.jpg  \n",
            "  inflating: training-testing/test/hyundai_i10/261.jpg  \n",
            "  inflating: training-testing/test/hyundai_i10/262.jpg  \n",
            "  inflating: training-testing/test/hyundai_i10/001.jpg  \n",
            "  inflating: training-testing/test/hyundai_i10/088.jpg  \n",
            "  inflating: training-testing/test/hyundai_i10/089.jpg  \n",
            "  inflating: training-testing/test/hyundai_i10/090.jpg  \n",
            "  inflating: training-testing/test/hyundai_i10/091.png  \n",
            "  inflating: training-testing/test/hyundai_i10/092.jpg  \n",
            "  inflating: training-testing/test/hyundai_i10/093.jpg  \n",
            "  inflating: training-testing/test/hyundai_i10/094.jpeg  \n",
            "  inflating: training-testing/test/hyundai_i10/095.jpg  \n",
            "  inflating: training-testing/test/hyundai_i10/002.jpg  \n",
            "   creating: training-testing/test/hyundai_i20/\n",
            "  inflating: training-testing/test/hyundai_i20/85.jpg  \n",
            "  inflating: training-testing/test/hyundai_i20/86.jpg  \n",
            "  inflating: training-testing/test/hyundai_i20/89.jpg  \n",
            "  inflating: training-testing/test/hyundai_i20/90.jpg  \n",
            "  inflating: training-testing/test/hyundai_i20/93.jpg  \n",
            "  inflating: training-testing/test/hyundai_i20/237.jpg  \n",
            "  inflating: training-testing/test/hyundai_i20/238.jpg  \n",
            "  inflating: training-testing/test/hyundai_i20/239.jpg  \n",
            "  inflating: training-testing/test/hyundai_i20/240.jpg  \n",
            "  inflating: training-testing/test/hyundai_i20/241.jpg  \n",
            "  inflating: training-testing/test/hyundai_i20/242.jpg  \n",
            "  inflating: training-testing/test/hyundai_i20/243.jpg  \n",
            "  inflating: training-testing/test/hyundai_i20/244.jpg  \n",
            "  inflating: training-testing/test/hyundai_i20/245.jpg  \n",
            "  inflating: training-testing/test/hyundai_i20/246.jpg  \n",
            "  inflating: training-testing/test/hyundai_i20/247.jpg  \n",
            "  inflating: training-testing/test/hyundai_i20/248.jpg  \n",
            "  inflating: training-testing/test/hyundai_i20/001.jpg  \n",
            "  inflating: training-testing/test/hyundai_i20/094.jpeg  \n",
            "  inflating: training-testing/test/hyundai_i20/003.jpg  \n",
            "  inflating: training-testing/test/hyundai_i20/002.jpg  \n",
            "  inflating: training-testing/test/hyundai_i20/088.jpg  \n",
            "  inflating: training-testing/test/hyundai_i20/089.jpg  \n",
            "  inflating: training-testing/test/hyundai_i20/090.jpg  \n",
            "  inflating: training-testing/test/hyundai_i20/091.jpg  \n",
            "  inflating: training-testing/test/hyundai_i20/092.jpg  \n",
            "  inflating: training-testing/test/hyundai_i20/093.jpg  \n",
            "   creating: training-testing/train/\n",
            "   creating: training-testing/train/hyundai_i10/\n",
            "  inflating: training-testing/train/hyundai_i10/001.jpg  \n",
            "  inflating: training-testing/train/hyundai_i10/004.jpg  \n",
            "  inflating: training-testing/train/hyundai_i10/006.jpg  \n",
            "  inflating: training-testing/train/hyundai_i10/008.jpg  \n",
            "  inflating: training-testing/train/hyundai_i10/010.jpg  \n",
            "  inflating: training-testing/train/hyundai_i10/012.jpg  \n",
            "  inflating: training-testing/train/hyundai_i10/014.jpeg  \n",
            "  inflating: training-testing/train/hyundai_i10/016.png  \n",
            "  inflating: training-testing/train/hyundai_i10/017.jpg  \n",
            "  inflating: training-testing/train/hyundai_i10/019.jpg  \n",
            "  inflating: training-testing/train/hyundai_i10/021.png  \n",
            "  inflating: training-testing/train/hyundai_i10/024.png  \n",
            "  inflating: training-testing/train/hyundai_i10/027.png  \n",
            "  inflating: training-testing/train/hyundai_i10/028.jpg  \n",
            "  inflating: training-testing/train/hyundai_i10/030.jpg  \n",
            "  inflating: training-testing/train/hyundai_i10/032.jpg  \n",
            "  inflating: training-testing/train/hyundai_i10/034.jpg  \n",
            "  inflating: training-testing/train/hyundai_i10/036.jpeg  \n",
            "  inflating: training-testing/train/hyundai_i10/037.jpg  \n",
            "  inflating: training-testing/train/hyundai_i10/039.jpg  \n",
            "  inflating: training-testing/train/hyundai_i10/041.jpg  \n",
            "  inflating: training-testing/train/hyundai_i10/046.png  \n",
            "  inflating: training-testing/train/hyundai_i10/049.png  \n",
            "  inflating: training-testing/train/hyundai_i10/050.jpg  \n",
            "  inflating: training-testing/train/hyundai_i10/055.jpg  \n",
            "  inflating: training-testing/train/hyundai_i10/057.jpg  \n",
            "  inflating: training-testing/train/hyundai_i10/059.jpg  \n",
            "  inflating: training-testing/train/hyundai_i10/063.png  \n",
            "  inflating: training-testing/train/hyundai_i10/064.png  \n",
            "  inflating: training-testing/train/hyundai_i10/065.jpeg  \n",
            "  inflating: training-testing/train/hyundai_i10/066.jpg  \n",
            "  inflating: training-testing/train/hyundai_i10/070.jpg  \n",
            "  inflating: training-testing/train/hyundai_i10/073.jpg  \n",
            "  inflating: training-testing/train/hyundai_i10/074.jpg  \n",
            "  inflating: training-testing/train/hyundai_i10/076.jpg  \n",
            "  inflating: training-testing/train/hyundai_i10/080.jpg  \n",
            "  inflating: training-testing/train/hyundai_i10/083.jpg  \n",
            "  inflating: training-testing/train/hyundai_i10/085.jpg  \n",
            "  inflating: training-testing/train/hyundai_i10/087.jpeg  \n",
            "  inflating: training-testing/train/hyundai_i10/089.jpg  \n",
            "  inflating: training-testing/train/hyundai_i10/091.jpg  \n",
            "  inflating: training-testing/train/hyundai_i10/144.jpg  \n",
            "  inflating: training-testing/train/hyundai_i10/151.jpg  \n",
            "  inflating: training-testing/train/hyundai_i10/153.jpg  \n",
            "  inflating: training-testing/train/hyundai_i10/154.jpg  \n",
            "  inflating: training-testing/train/hyundai_i10/155.jpeg  \n",
            "  inflating: training-testing/train/hyundai_i10/156.jpeg  \n",
            "  inflating: training-testing/train/hyundai_i10/159.jpg  \n",
            "  inflating: training-testing/train/hyundai_i10/160.jpg  \n",
            "  inflating: training-testing/train/hyundai_i10/161.jpg  \n",
            "  inflating: training-testing/train/hyundai_i10/162.jpg  \n",
            "  inflating: training-testing/train/hyundai_i10/164.jpg  \n",
            "  inflating: training-testing/train/hyundai_i10/165.jpg  \n",
            "  inflating: training-testing/train/hyundai_i10/166.jpg  \n",
            "  inflating: training-testing/train/hyundai_i10/167.jpg  \n",
            "  inflating: training-testing/train/hyundai_i10/168.jpg  \n",
            "  inflating: training-testing/train/hyundai_i10/169.jpg  \n",
            "  inflating: training-testing/train/hyundai_i10/170.jpg  \n",
            "  inflating: training-testing/train/hyundai_i10/171.jpg  \n",
            "  inflating: training-testing/train/hyundai_i10/172.jpeg  \n",
            "  inflating: training-testing/train/hyundai_i10/173.jpg  \n",
            "  inflating: training-testing/train/hyundai_i10/174.jpg  \n",
            "  inflating: training-testing/train/hyundai_i10/175.jpg  \n",
            "  inflating: training-testing/train/hyundai_i10/176.jpg  \n",
            "  inflating: training-testing/train/hyundai_i10/177.jpg  \n",
            "  inflating: training-testing/train/hyundai_i10/178.jpg  \n",
            "  inflating: training-testing/train/hyundai_i10/179.jpg  \n",
            "  inflating: training-testing/train/hyundai_i10/180.jpg  \n",
            "  inflating: training-testing/train/hyundai_i10/181.jpg  \n",
            "  inflating: training-testing/train/hyundai_i10/182.jpg  \n",
            "  inflating: training-testing/train/hyundai_i10/183.jpg  \n",
            "  inflating: training-testing/train/hyundai_i10/184.jpg  \n",
            "  inflating: training-testing/train/hyundai_i10/185.jpg  \n",
            "  inflating: training-testing/train/hyundai_i10/186.jpg  \n",
            "  inflating: training-testing/train/hyundai_i10/187.jpg  \n",
            "  inflating: training-testing/train/hyundai_i10/188.jpg  \n",
            "  inflating: training-testing/train/hyundai_i10/189.jpg  \n",
            "  inflating: training-testing/train/hyundai_i10/190.jpeg  \n",
            "  inflating: training-testing/train/hyundai_i10/191.jpg  \n",
            "  inflating: training-testing/train/hyundai_i10/192.jpg  \n",
            "  inflating: training-testing/train/hyundai_i10/193.jpg  \n",
            "  inflating: training-testing/train/hyundai_i10/194.jpg  \n",
            "  inflating: training-testing/train/hyundai_i10/195.JPG  \n",
            "  inflating: training-testing/train/hyundai_i10/196.jpg  \n",
            "  inflating: training-testing/train/hyundai_i10/197.jpg  \n",
            "  inflating: training-testing/train/hyundai_i10/198.jpg  \n",
            "  inflating: training-testing/train/hyundai_i10/199.jpeg  \n",
            "  inflating: training-testing/train/hyundai_i10/200.png  \n",
            "  inflating: training-testing/train/hyundai_i10/201.jpg  \n",
            "  inflating: training-testing/train/hyundai_i10/202.jpg  \n",
            "  inflating: training-testing/train/hyundai_i10/203.jpg  \n",
            "  inflating: training-testing/train/hyundai_i10/204.png  \n",
            "  inflating: training-testing/train/hyundai_i10/205.jpg  \n",
            "  inflating: training-testing/train/hyundai_i10/206.jpg  \n",
            "  inflating: training-testing/train/hyundai_i10/207.jpg  \n",
            "  inflating: training-testing/train/hyundai_i10/208.png  \n",
            "  inflating: training-testing/train/hyundai_i10/209.jpg  \n",
            "  inflating: training-testing/train/hyundai_i10/210.jpg  \n",
            "  inflating: training-testing/train/hyundai_i10/211.jpg  \n",
            "  inflating: training-testing/train/hyundai_i10/212.jpg  \n",
            "  inflating: training-testing/train/hyundai_i10/213.jpg  \n",
            "  inflating: training-testing/train/hyundai_i10/214.jpg  \n",
            "  inflating: training-testing/train/hyundai_i10/215.jpg  \n",
            "  inflating: training-testing/train/hyundai_i10/216.jpg  \n",
            "  inflating: training-testing/train/hyundai_i10/217.jpg  \n",
            "  inflating: training-testing/train/hyundai_i10/218.jpg  \n",
            "  inflating: training-testing/train/hyundai_i10/219.jpg  \n",
            "  inflating: training-testing/train/hyundai_i10/220.jpg  \n",
            "  inflating: training-testing/train/hyundai_i10/221.jpg  \n",
            "  inflating: training-testing/train/hyundai_i10/222.jpg  \n",
            "  inflating: training-testing/train/hyundai_i10/223.jpeg  \n",
            "  inflating: training-testing/train/hyundai_i10/224.jpg  \n",
            "  inflating: training-testing/train/hyundai_i10/225.jpg  \n",
            "  inflating: training-testing/train/hyundai_i10/226.jpg  \n",
            "  inflating: training-testing/train/hyundai_i10/227.jpg  \n",
            "  inflating: training-testing/train/hyundai_i10/228.jpg  \n",
            "  inflating: training-testing/train/hyundai_i10/229.jpg  \n",
            "  inflating: training-testing/train/hyundai_i10/230.jpg  \n",
            "  inflating: training-testing/train/hyundai_i10/231.jpg  \n",
            "  inflating: training-testing/train/hyundai_i10/232.jpg  \n",
            "  inflating: training-testing/train/hyundai_i10/233.jpg  \n",
            "  inflating: training-testing/train/hyundai_i10/234.jpg  \n",
            "  inflating: training-testing/train/hyundai_i10/235.jpg  \n",
            "  inflating: training-testing/train/hyundai_i10/236.JPG  \n",
            "  inflating: training-testing/train/hyundai_i10/237.jpg  \n",
            "  inflating: training-testing/train/hyundai_i10/238.jpg  \n",
            "  inflating: training-testing/train/hyundai_i10/239.jpeg  \n",
            "  inflating: training-testing/train/hyundai_i10/240.jpeg  \n",
            "  inflating: training-testing/train/hyundai_i10/241.jpg  \n",
            "  inflating: training-testing/train/hyundai_i10/242.jpg  \n",
            "  inflating: training-testing/train/hyundai_i10/243.jpg  \n",
            "  inflating: training-testing/train/hyundai_i10/244.jpg  \n",
            "  inflating: training-testing/train/hyundai_i10/245.jpg  \n",
            "  inflating: training-testing/train/hyundai_i10/246.jpg  \n",
            "  inflating: training-testing/train/hyundai_i10/247.jpeg  \n",
            "  inflating: training-testing/train/hyundai_i10/248.jpeg  \n",
            "  inflating: training-testing/train/hyundai_i10/249.jpg  \n",
            "  inflating: training-testing/train/hyundai_i10/250.png  \n",
            "  inflating: training-testing/train/hyundai_i10/251.jpg  \n",
            "  inflating: training-testing/train/hyundai_i10/252.jpg  \n",
            "  inflating: training-testing/train/hyundai_i10/253.jpg  \n",
            "  inflating: training-testing/train/hyundai_i10/254.jpg  \n",
            "  inflating: training-testing/train/hyundai_i10/255.jpg  \n",
            "  inflating: training-testing/train/hyundai_i10/256.jpg  \n",
            "  inflating: training-testing/train/hyundai_i10/257.jpg  \n",
            "  inflating: training-testing/train/hyundai_i10/258.jpeg  \n",
            "  inflating: training-testing/train/hyundai_i10/259.jpg  \n",
            "  inflating: training-testing/train/hyundai_i10/260.jpg  \n",
            "  inflating: training-testing/train/hyundai_i10/261.jpg  \n",
            "  inflating: training-testing/train/hyundai_i10/262.jpg  \n",
            "  inflating: training-testing/train/hyundai_i10/263.jpg  \n",
            "  inflating: training-testing/train/hyundai_i10/264.jpg  \n",
            "  inflating: training-testing/train/hyundai_i10/265.jpg  \n",
            "  inflating: training-testing/train/hyundai_i10/266.jpg  \n",
            "  inflating: training-testing/train/hyundai_i10/267.jpg  \n",
            "  inflating: training-testing/train/hyundai_i10/268.jpeg  \n",
            "  inflating: training-testing/train/hyundai_i10/269.jpeg  \n",
            "  inflating: training-testing/train/hyundai_i10/270.jpg  \n",
            "  inflating: training-testing/train/hyundai_i10/271.jpg  \n",
            "  inflating: training-testing/train/hyundai_i10/272.jpg  \n",
            "  inflating: training-testing/train/hyundai_i10/273.jpg  \n",
            "  inflating: training-testing/train/hyundai_i10/274.jpg  \n",
            "  inflating: training-testing/train/hyundai_i10/275.jpg  \n",
            "  inflating: training-testing/train/hyundai_i10/276.jpg  \n",
            "  inflating: training-testing/train/hyundai_i10/277.jpg  \n",
            "  inflating: training-testing/train/hyundai_i10/278.jpg  \n",
            "  inflating: training-testing/train/hyundai_i10/279.jpg  \n",
            "  inflating: training-testing/train/hyundai_i10/280.jpg  \n",
            "  inflating: training-testing/train/hyundai_i10/281.jpeg  \n",
            "  inflating: training-testing/train/hyundai_i10/282.jpeg  \n",
            "  inflating: training-testing/train/hyundai_i10/283.jpg  \n",
            "  inflating: training-testing/train/hyundai_i10/284.jpg  \n",
            "  inflating: training-testing/train/hyundai_i10/285.jpg  \n",
            "  inflating: training-testing/train/hyundai_i10/286.jpg  \n",
            "  inflating: training-testing/train/hyundai_i10/287.png  \n",
            "  inflating: training-testing/train/hyundai_i10/288.jpg  \n",
            "  inflating: training-testing/train/hyundai_i10/289.jpg  \n",
            "  inflating: training-testing/train/hyundai_i10/290.jpg  \n",
            "  inflating: training-testing/train/hyundai_i10/291.jpg  \n",
            "  inflating: training-testing/train/hyundai_i10/292.jpg  \n",
            "  inflating: training-testing/train/hyundai_i10/293.jpg  \n",
            "  inflating: training-testing/train/hyundai_i10/294.png  \n",
            "  inflating: training-testing/train/hyundai_i10/295.jpg  \n",
            "  inflating: training-testing/train/hyundai_i10/296.jpg  \n",
            "  inflating: training-testing/train/hyundai_i10/297.jpg  \n",
            "  inflating: training-testing/train/hyundai_i10/298.png  \n",
            "  inflating: training-testing/train/hyundai_i10/299.jpg  \n",
            "  inflating: training-testing/train/hyundai_i10/300.jpg  \n",
            "  inflating: training-testing/train/hyundai_i10/301.jpg  \n",
            "  inflating: training-testing/train/hyundai_i10/302.jpeg  \n",
            "  inflating: training-testing/train/hyundai_i10/303.jpg  \n",
            "  inflating: training-testing/train/hyundai_i10/304.png  \n",
            "  inflating: training-testing/train/hyundai_i10/305.jpg  \n",
            "  inflating: training-testing/train/hyundai_i10/306.jpg  \n",
            "  inflating: training-testing/train/hyundai_i10/307.png  \n",
            "  inflating: training-testing/train/hyundai_i10/308.jpg  \n",
            "  inflating: training-testing/train/hyundai_i10/309.jpg  \n",
            "  inflating: training-testing/train/hyundai_i10/310.jpg  \n",
            "  inflating: training-testing/train/hyundai_i10/311.jpg  \n",
            "  inflating: training-testing/train/hyundai_i10/002.jpg  \n",
            "  inflating: training-testing/train/hyundai_i10/022.jpg  \n",
            "  inflating: training-testing/train/hyundai_i10/025.jpg  \n",
            "  inflating: training-testing/train/hyundai_i10/043.png  \n",
            "  inflating: training-testing/train/hyundai_i10/044.jpg  \n",
            "  inflating: training-testing/train/hyundai_i10/047.jpg  \n",
            "  inflating: training-testing/train/hyundai_i10/053.jpg  \n",
            "  inflating: training-testing/train/hyundai_i10/061.jpg  \n",
            "  inflating: training-testing/train/hyundai_i10/068.jpg  \n",
            "  inflating: training-testing/train/hyundai_i10/075.jpeg  \n",
            "  inflating: training-testing/train/hyundai_i10/078.jpg  \n",
            "  inflating: training-testing/train/hyundai_i10/143.jpeg  \n",
            "  inflating: training-testing/train/hyundai_i10/145.jpg  \n",
            "  inflating: training-testing/train/hyundai_i10/150.jpg  \n",
            "  inflating: training-testing/train/hyundai_i10/157.jpg  \n",
            "  inflating: training-testing/train/hyundai_i10/158.jpeg  \n",
            "  inflating: training-testing/train/hyundai_i10/163.gif  \n",
            "  inflating: training-testing/train/hyundai_i10/003.jpg  \n",
            "  inflating: training-testing/train/hyundai_i10/020.jpg  \n",
            "  inflating: training-testing/train/hyundai_i10/102.jpg  \n",
            "  inflating: training-testing/train/hyundai_i10/103.jpg  \n",
            "  inflating: training-testing/train/hyundai_i10/104.jpg  \n",
            "  inflating: training-testing/train/hyundai_i10/105.jpg  \n",
            "  inflating: training-testing/train/hyundai_i10/106.jpg  \n",
            "  inflating: training-testing/train/hyundai_i10/107.png  \n",
            "  inflating: training-testing/train/hyundai_i10/023.jpg  \n",
            "  inflating: training-testing/train/hyundai_i10/108.jpg  \n",
            "  inflating: training-testing/train/hyundai_i10/109.jpeg  \n",
            "  inflating: training-testing/train/hyundai_i10/110.jpg  \n",
            "  inflating: training-testing/train/hyundai_i10/111.jpg  \n",
            "  inflating: training-testing/train/hyundai_i10/112.jpg  \n",
            "  inflating: training-testing/train/hyundai_i10/113.jpg  \n",
            "  inflating: training-testing/train/hyundai_i10/026.jpg  \n",
            "  inflating: training-testing/train/hyundai_i10/114.jpg  \n",
            "  inflating: training-testing/train/hyundai_i10/115.jpg  \n",
            "  inflating: training-testing/train/hyundai_i10/116.jpg  \n",
            "  inflating: training-testing/train/hyundai_i10/117.jpg  \n",
            "  inflating: training-testing/train/hyundai_i10/118.jpg  \n",
            "  inflating: training-testing/train/hyundai_i10/119.jpg  \n",
            "  inflating: training-testing/train/hyundai_i10/120.jpg  \n",
            "  inflating: training-testing/train/hyundai_i10/121.jpg  \n",
            "  inflating: training-testing/train/hyundai_i10/122.jpg  \n",
            "  inflating: training-testing/train/hyundai_i10/123.jpg  \n",
            "  inflating: training-testing/train/hyundai_i10/124.jpg  \n",
            "  inflating: training-testing/train/hyundai_i10/029.jpg  \n",
            "  inflating: training-testing/train/hyundai_i10/125.jpg  \n",
            "  inflating: training-testing/train/hyundai_i10/126.jpg  \n",
            "  inflating: training-testing/train/hyundai_i10/127.jpg  \n",
            "  inflating: training-testing/train/hyundai_i10/128.jpg  \n",
            "  inflating: training-testing/train/hyundai_i10/129.jpg  \n",
            "  inflating: training-testing/train/hyundai_i10/031.jpg  \n",
            "  inflating: training-testing/train/hyundai_i10/130.jpg  \n",
            "  inflating: training-testing/train/hyundai_i10/131.png  \n",
            "  inflating: training-testing/train/hyundai_i10/132.jpg  \n",
            "  inflating: training-testing/train/hyundai_i10/133.jpg  \n",
            "  inflating: training-testing/train/hyundai_i10/134.jpg  \n",
            "  inflating: training-testing/train/hyundai_i10/033.jpg  \n",
            "  inflating: training-testing/train/hyundai_i10/135.jpg  \n",
            "  inflating: training-testing/train/hyundai_i10/136.jpg  \n",
            "  inflating: training-testing/train/hyundai_i10/137.jpg  \n",
            "  inflating: training-testing/train/hyundai_i10/035.jpg  \n",
            "  inflating: training-testing/train/hyundai_i10/138.jpg  \n",
            "  inflating: training-testing/train/hyundai_i10/139.jpg  \n",
            "  inflating: training-testing/train/hyundai_i10/140.jpg  \n",
            "  inflating: training-testing/train/hyundai_i10/038.jpg  \n",
            "  inflating: training-testing/train/hyundai_i10/141.jpg  \n",
            "  inflating: training-testing/train/hyundai_i10/142.jpg  \n",
            "  inflating: training-testing/train/hyundai_i10/146.png  \n",
            "  inflating: training-testing/train/hyundai_i10/147.jpg  \n",
            "  inflating: training-testing/train/hyundai_i10/148.jpg  \n",
            "  inflating: training-testing/train/hyundai_i10/149.jpeg  \n",
            "  inflating: training-testing/train/hyundai_i10/152.jpg  \n",
            "  inflating: training-testing/train/hyundai_i10/005.jpg  \n",
            "  inflating: training-testing/train/hyundai_i10/040.jpg  \n",
            "  inflating: training-testing/train/hyundai_i10/042.jpg  \n",
            "  inflating: training-testing/train/hyundai_i10/045.jpg  \n",
            "  inflating: training-testing/train/hyundai_i10/048.jpg  \n",
            "  inflating: training-testing/train/hyundai_i10/051.jpg  \n",
            "  inflating: training-testing/train/hyundai_i10/052.jpg  \n",
            "  inflating: training-testing/train/hyundai_i10/054.jpg  \n",
            "  inflating: training-testing/train/hyundai_i10/007.jpg  \n",
            "  inflating: training-testing/train/hyundai_i10/056.jpg  \n",
            "  inflating: training-testing/train/hyundai_i10/058.jpg  \n",
            "  inflating: training-testing/train/hyundai_i10/060.jpg  \n",
            "  inflating: training-testing/train/hyundai_i10/062.jpg  \n",
            "  inflating: training-testing/train/hyundai_i10/009.jpg  \n",
            "  inflating: training-testing/train/hyundai_i10/067.jpg  \n",
            "  inflating: training-testing/train/hyundai_i10/069.jpg  \n",
            "  inflating: training-testing/train/hyundai_i10/071.jpg  \n",
            "  inflating: training-testing/train/hyundai_i10/072.jpeg  \n",
            "  inflating: training-testing/train/hyundai_i10/077.jpg  \n",
            "  inflating: training-testing/train/hyundai_i10/079.jpg  \n",
            "  inflating: training-testing/train/hyundai_i10/081.jpg  \n",
            "  inflating: training-testing/train/hyundai_i10/011.jpg  \n",
            "  inflating: training-testing/train/hyundai_i10/082.jpg  \n",
            "  inflating: training-testing/train/hyundai_i10/084.jpg  \n",
            "  inflating: training-testing/train/hyundai_i10/086.jpg  \n",
            "  inflating: training-testing/train/hyundai_i10/013.jpg  \n",
            "  inflating: training-testing/train/hyundai_i10/088.jpg  \n",
            "  inflating: training-testing/train/hyundai_i10/090.jpg  \n",
            "  inflating: training-testing/train/hyundai_i10/092.jpg  \n",
            "  inflating: training-testing/train/hyundai_i10/015.jpg  \n",
            "  inflating: training-testing/train/hyundai_i10/093.jpg  \n",
            "  inflating: training-testing/train/hyundai_i10/094.jpg  \n",
            "  inflating: training-testing/train/hyundai_i10/095.jpg  \n",
            "  inflating: training-testing/train/hyundai_i10/096.jpg  \n",
            "  inflating: training-testing/train/hyundai_i10/097.jpg  \n",
            "  inflating: training-testing/train/hyundai_i10/098.jpg  \n",
            "  inflating: training-testing/train/hyundai_i10/099.jpg  \n",
            "  inflating: training-testing/train/hyundai_i10/100.jpg  \n",
            "  inflating: training-testing/train/hyundai_i10/018.jpg  \n",
            "  inflating: training-testing/train/hyundai_i10/101.jpg  \n",
            "   creating: training-testing/train/hyundai_i20/\n",
            "  inflating: training-testing/train/hyundai_i20/001.jpg  \n",
            "  inflating: training-testing/train/hyundai_i20/003.jpg  \n",
            "  inflating: training-testing/train/hyundai_i20/005.jpg  \n",
            "  inflating: training-testing/train/hyundai_i20/007.jpg  \n",
            "  inflating: training-testing/train/hyundai_i20/009.jpg  \n",
            "  inflating: training-testing/train/hyundai_i20/011.jpg  \n",
            "  inflating: training-testing/train/hyundai_i20/013.jpg  \n",
            "  inflating: training-testing/train/hyundai_i20/015.jpg  \n",
            "  inflating: training-testing/train/hyundai_i20/017.jpg  \n",
            "  inflating: training-testing/train/hyundai_i20/019.jpg  \n",
            "  inflating: training-testing/train/hyundai_i20/022.png  \n",
            "  inflating: training-testing/train/hyundai_i20/024.jpg  \n",
            "  inflating: training-testing/train/hyundai_i20/025.jpg  \n",
            "  inflating: training-testing/train/hyundai_i20/027.jpg  \n",
            "  inflating: training-testing/train/hyundai_i20/029.jpg  \n",
            "  inflating: training-testing/train/hyundai_i20/031.jpg  \n",
            "  inflating: training-testing/train/hyundai_i20/034.png  \n",
            "  inflating: training-testing/train/hyundai_i20/035.jpg  \n",
            "  inflating: training-testing/train/hyundai_i20/037.jpg  \n",
            "  inflating: training-testing/train/hyundai_i20/039.jpg  \n",
            "  inflating: training-testing/train/hyundai_i20/041.jpg  \n",
            "  inflating: training-testing/train/hyundai_i20/043.jpg  \n",
            "  inflating: training-testing/train/hyundai_i20/045.jpg  \n",
            "  inflating: training-testing/train/hyundai_i20/047.jpg  \n",
            "  inflating: training-testing/train/hyundai_i20/049.jpg  \n",
            "  inflating: training-testing/train/hyundai_i20/051.jpg  \n",
            "  inflating: training-testing/train/hyundai_i20/053.jpg  \n",
            "  inflating: training-testing/train/hyundai_i20/055.jpg  \n",
            "  inflating: training-testing/train/hyundai_i20/057.jpg  \n",
            "  inflating: training-testing/train/hyundai_i20/059.jpg  \n",
            "  inflating: training-testing/train/hyundai_i20/061.jpg  \n",
            "  inflating: training-testing/train/hyundai_i20/063.jpg  \n",
            "  inflating: training-testing/train/hyundai_i20/065.jpg  \n",
            "  inflating: training-testing/train/hyundai_i20/067.jpg  \n",
            "  inflating: training-testing/train/hyundai_i20/069.jpg  \n",
            "  inflating: training-testing/train/hyundai_i20/071.jpg  \n",
            "  inflating: training-testing/train/hyundai_i20/073.jpg  \n",
            "  inflating: training-testing/train/hyundai_i20/075.jpg  \n",
            "  inflating: training-testing/train/hyundai_i20/077.jpg  \n",
            "  inflating: training-testing/train/hyundai_i20/079.jpg  \n",
            "  inflating: training-testing/train/hyundai_i20/081.jpg  \n",
            "  inflating: training-testing/train/hyundai_i20/083.jpg  \n",
            "  inflating: training-testing/train/hyundai_i20/085.jpg  \n",
            "  inflating: training-testing/train/hyundai_i20/087.jpg  \n",
            "  inflating: training-testing/train/hyundai_i20/089.jpg  \n",
            "  inflating: training-testing/train/hyundai_i20/091.jpg  \n",
            "  inflating: training-testing/train/hyundai_i20/094.png  \n",
            "  inflating: training-testing/train/hyundai_i20/095.jpg  \n",
            "  inflating: training-testing/train/hyundai_i20/097.jpg  \n",
            "  inflating: training-testing/train/hyundai_i20/099.jpeg  \n",
            "  inflating: training-testing/train/hyundai_i20/101.jpg  \n",
            "  inflating: training-testing/train/hyundai_i20/103.jpg  \n",
            "  inflating: training-testing/train/hyundai_i20/105.jpg  \n",
            "  inflating: training-testing/train/hyundai_i20/107.jpg  \n",
            "  inflating: training-testing/train/hyundai_i20/109.jpg  \n",
            "  inflating: training-testing/train/hyundai_i20/111.jpg  \n",
            "  inflating: training-testing/train/hyundai_i20/113.jpg  \n",
            "  inflating: training-testing/train/hyundai_i20/115.jpg  \n",
            "  inflating: training-testing/train/hyundai_i20/117.jpeg  \n",
            "  inflating: training-testing/train/hyundai_i20/119.jpg  \n",
            "  inflating: training-testing/train/hyundai_i20/121.jpg  \n",
            "  inflating: training-testing/train/hyundai_i20/124.jpg  \n",
            "  inflating: training-testing/train/hyundai_i20/125.jpg  \n",
            "  inflating: training-testing/train/hyundai_i20/127.jpg  \n",
            "  inflating: training-testing/train/hyundai_i20/129.jpg  \n",
            "  inflating: training-testing/train/hyundai_i20/131.jpg  \n",
            "  inflating: training-testing/train/hyundai_i20/133.jpg  \n",
            "  inflating: training-testing/train/hyundai_i20/135.jpg  \n",
            "  inflating: training-testing/train/hyundai_i20/137.jpg  \n",
            "  inflating: training-testing/train/hyundai_i20/140.jpg  \n",
            "  inflating: training-testing/train/hyundai_i20/141.jpg  \n",
            "  inflating: training-testing/train/hyundai_i20/144.jpg  \n",
            "  inflating: training-testing/train/hyundai_i20/145.jpg  \n",
            "  inflating: training-testing/train/hyundai_i20/147.jpg  \n",
            "  inflating: training-testing/train/hyundai_i20/149.jpg  \n",
            "  inflating: training-testing/train/hyundai_i20/151.jpg  \n",
            "  inflating: training-testing/train/hyundai_i20/153.jpg  \n",
            "  inflating: training-testing/train/hyundai_i20/155.jpg  \n",
            "  inflating: training-testing/train/hyundai_i20/157.jpg  \n",
            "  inflating: training-testing/train/hyundai_i20/159.jpg  \n",
            "  inflating: training-testing/train/hyundai_i20/161.jpg  \n",
            "  inflating: training-testing/train/hyundai_i20/163.jpg  \n",
            "  inflating: training-testing/train/hyundai_i20/165.jpg  \n",
            "  inflating: training-testing/train/hyundai_i20/167.jpg  \n",
            "  inflating: training-testing/train/hyundai_i20/169.jpeg  \n",
            "  inflating: training-testing/train/hyundai_i20/171.jpg  \n",
            "  inflating: training-testing/train/hyundai_i20/173.jpg  \n",
            "  inflating: training-testing/train/hyundai_i20/175.jpg  \n",
            "  inflating: training-testing/train/hyundai_i20/177.jpg  \n",
            "  inflating: training-testing/train/hyundai_i20/179.jpg  \n",
            "  inflating: training-testing/train/hyundai_i20/181.jpg  \n",
            "  inflating: training-testing/train/hyundai_i20/183.jpg  \n",
            "  inflating: training-testing/train/hyundai_i20/185.jpg  \n",
            "  inflating: training-testing/train/hyundai_i20/188.jpg  \n",
            "  inflating: training-testing/train/hyundai_i20/189.jpg  \n",
            "  inflating: training-testing/train/hyundai_i20/190.jpg  \n",
            "  inflating: training-testing/train/hyundai_i20/191.jpg  \n",
            "  inflating: training-testing/train/hyundai_i20/192.png  \n",
            "  inflating: training-testing/train/hyundai_i20/193.jpg  \n",
            "  inflating: training-testing/train/hyundai_i20/194.jpg  \n",
            "  inflating: training-testing/train/hyundai_i20/195.jpg  \n",
            "  inflating: training-testing/train/hyundai_i20/196.jpg  \n",
            "  inflating: training-testing/train/hyundai_i20/197.jpg  \n",
            "  inflating: training-testing/train/hyundai_i20/198.jpg  \n",
            "  inflating: training-testing/train/hyundai_i20/199.jpg  \n",
            "  inflating: training-testing/train/hyundai_i20/200.jpg  \n",
            "  inflating: training-testing/train/hyundai_i20/201.jpg  \n",
            "  inflating: training-testing/train/hyundai_i20/202.jpg  \n",
            "  inflating: training-testing/train/hyundai_i20/203.jpg  \n",
            "  inflating: training-testing/train/hyundai_i20/204.jpg  \n",
            "  inflating: training-testing/train/hyundai_i20/205.jpg  \n",
            "  inflating: training-testing/train/hyundai_i20/206.jpg  \n",
            "  inflating: training-testing/train/hyundai_i20/207.jpg  \n",
            "  inflating: training-testing/train/hyundai_i20/208.jpg  \n",
            "  inflating: training-testing/train/hyundai_i20/209.jpg  \n",
            "  inflating: training-testing/train/hyundai_i20/210.jpg  \n",
            "  inflating: training-testing/train/hyundai_i20/211.jpg  \n",
            "  inflating: training-testing/train/hyundai_i20/212.jpg  \n",
            "  inflating: training-testing/train/hyundai_i20/213.jpg  \n",
            "  inflating: training-testing/train/hyundai_i20/214.jpg  \n",
            "  inflating: training-testing/train/hyundai_i20/215.jpg  \n",
            "  inflating: training-testing/train/hyundai_i20/216.jpg  \n",
            "  inflating: training-testing/train/hyundai_i20/217.jpg  \n",
            "  inflating: training-testing/train/hyundai_i20/218.jpg  \n",
            "  inflating: training-testing/train/hyundai_i20/219.jpg  \n",
            "  inflating: training-testing/train/hyundai_i20/220.jpg  \n",
            "  inflating: training-testing/train/hyundai_i20/221.jpg  \n",
            "  inflating: training-testing/train/hyundai_i20/222.png  \n",
            "  inflating: training-testing/train/hyundai_i20/223.jpg  \n",
            "  inflating: training-testing/train/hyundai_i20/224.jpg  \n",
            "  inflating: training-testing/train/hyundai_i20/225.jpg  \n",
            "  inflating: training-testing/train/hyundai_i20/226.jpg  \n",
            "  inflating: training-testing/train/hyundai_i20/227.jpg  \n",
            "  inflating: training-testing/train/hyundai_i20/228.jpg  \n",
            "  inflating: training-testing/train/hyundai_i20/229.jpg  \n",
            "  inflating: training-testing/train/hyundai_i20/230.jpg  \n",
            "  inflating: training-testing/train/hyundai_i20/231.jpg  \n",
            "  inflating: training-testing/train/hyundai_i20/232.jpg  \n",
            "  inflating: training-testing/train/hyundai_i20/233.jpg  \n",
            "  inflating: training-testing/train/hyundai_i20/234.jpg  \n",
            "  inflating: training-testing/train/hyundai_i20/235.jpg  \n",
            "  inflating: training-testing/train/hyundai_i20/236.jpg  \n",
            "  inflating: training-testing/train/hyundai_i20/237.jpg  \n",
            "  inflating: training-testing/train/hyundai_i20/238.jpg  \n",
            "  inflating: training-testing/train/hyundai_i20/239.jpg  \n",
            "  inflating: training-testing/train/hyundai_i20/240.jpg  \n",
            "  inflating: training-testing/train/hyundai_i20/241.jpg  \n",
            "  inflating: training-testing/train/hyundai_i20/242.jpg  \n",
            "  inflating: training-testing/train/hyundai_i20/243.jpg  \n",
            "  inflating: training-testing/train/hyundai_i20/244.jpg  \n",
            "  inflating: training-testing/train/hyundai_i20/245.jpg  \n",
            "  inflating: training-testing/train/hyundai_i20/246.jpg  \n",
            "  inflating: training-testing/train/hyundai_i20/247.jpg  \n",
            "  inflating: training-testing/train/hyundai_i20/248.jpg  \n",
            "  inflating: training-testing/train/hyundai_i20/249.jpg  \n",
            "  inflating: training-testing/train/hyundai_i20/250.jpg  \n",
            "  inflating: training-testing/train/hyundai_i20/251.jpg  \n",
            "  inflating: training-testing/train/hyundai_i20/252.jpg  \n",
            "  inflating: training-testing/train/hyundai_i20/253.jpg  \n",
            "  inflating: training-testing/train/hyundai_i20/254.jpg  \n",
            "  inflating: training-testing/train/hyundai_i20/255.jpg  \n",
            "  inflating: training-testing/train/hyundai_i20/256.jpg  \n",
            "  inflating: training-testing/train/hyundai_i20/257.jpg  \n",
            "  inflating: training-testing/train/hyundai_i20/258.jpg  \n",
            "  inflating: training-testing/train/hyundai_i20/259.jpg  \n",
            "  inflating: training-testing/train/hyundai_i20/260.jpg  \n",
            "  inflating: training-testing/train/hyundai_i20/261.jpg  \n",
            "  inflating: training-testing/train/hyundai_i20/262.jpg  \n",
            "  inflating: training-testing/train/hyundai_i20/263.jpg  \n",
            "  inflating: training-testing/train/hyundai_i20/264.jpg  \n",
            "  inflating: training-testing/train/hyundai_i20/265.jpg  \n",
            "  inflating: training-testing/train/hyundai_i20/266.jpg  \n",
            "  inflating: training-testing/train/hyundai_i20/267.jpg  \n",
            "  inflating: training-testing/train/hyundai_i20/268.jpg  \n",
            "  inflating: training-testing/train/hyundai_i20/269.jpg  \n",
            "  inflating: training-testing/train/hyundai_i20/270.jpg  \n",
            "  inflating: training-testing/train/hyundai_i20/271.jpg  \n",
            "  inflating: training-testing/train/hyundai_i20/272.jpg  \n",
            "  inflating: training-testing/train/hyundai_i20/273.jpg  \n",
            "  inflating: training-testing/train/hyundai_i20/274.jpg  \n",
            "  inflating: training-testing/train/hyundai_i20/275.jpg  \n",
            "  inflating: training-testing/train/hyundai_i20/276.jpg  \n",
            "  inflating: training-testing/train/hyundai_i20/277.jpg  \n",
            "  inflating: training-testing/train/hyundai_i20/278.jpg  \n",
            "  inflating: training-testing/train/hyundai_i20/279.jpg  \n",
            "  inflating: training-testing/train/hyundai_i20/280.jpg  \n",
            "  inflating: training-testing/train/hyundai_i20/281.jpg  \n",
            "  inflating: training-testing/train/hyundai_i20/282.jpg  \n",
            "  inflating: training-testing/train/hyundai_i20/283.jpg  \n",
            "  inflating: training-testing/train/hyundai_i20/284.jpg  \n",
            "  inflating: training-testing/train/hyundai_i20/285.jpg  \n",
            "  inflating: training-testing/train/hyundai_i20/286.jpg  \n",
            "  inflating: training-testing/train/hyundai_i20/287.jpg  \n",
            "  inflating: training-testing/train/hyundai_i20/288.jpg  \n",
            "  inflating: training-testing/train/hyundai_i20/289.jpg  \n",
            "  inflating: training-testing/train/hyundai_i20/290.jpg  \n",
            "  inflating: training-testing/train/hyundai_i20/291.jpg  \n",
            "  inflating: training-testing/train/hyundai_i20/292.jpg  \n",
            "  inflating: training-testing/train/hyundai_i20/293.jpg  \n",
            "  inflating: training-testing/train/hyundai_i20/294.jpg  \n",
            "  inflating: training-testing/train/hyundai_i20/295.jpg  \n",
            "  inflating: training-testing/train/hyundai_i20/296.jpg  \n",
            "  inflating: training-testing/train/hyundai_i20/297.jpg  \n",
            "  inflating: training-testing/train/hyundai_i20/298.jpg  \n",
            "  inflating: training-testing/train/hyundai_i20/299.jpg  \n",
            "  inflating: training-testing/train/hyundai_i20/300.jpg  \n",
            "  inflating: training-testing/train/hyundai_i20/301.jpg  \n",
            "  inflating: training-testing/train/hyundai_i20/302.jpg  \n",
            "  inflating: training-testing/train/hyundai_i20/303.jpg  \n",
            "  inflating: training-testing/train/hyundai_i20/304.jpg  \n",
            "  inflating: training-testing/train/hyundai_i20/305.jpg  \n",
            "  inflating: training-testing/train/hyundai_i20/306.jpg  \n",
            "  inflating: training-testing/train/hyundai_i20/307.jpg  \n",
            "  inflating: training-testing/train/hyundai_i20/308.jpg  \n",
            "  inflating: training-testing/train/hyundai_i20/309.jpg  \n",
            "  inflating: training-testing/train/hyundai_i20/310.jpg  \n",
            "  inflating: training-testing/train/hyundai_i20/311.jpg  \n",
            "  inflating: training-testing/train/hyundai_i20/312.jpg  \n",
            "  inflating: training-testing/train/hyundai_i20/313.jpg  \n",
            "  inflating: training-testing/train/hyundai_i20/314.jpg  \n",
            "  inflating: training-testing/train/hyundai_i20/315.jpg  \n",
            "  inflating: training-testing/train/hyundai_i20/316.jpg  \n",
            "  inflating: training-testing/train/hyundai_i20/317.jpg  \n",
            "  inflating: training-testing/train/hyundai_i20/318.jpg  \n",
            "  inflating: training-testing/train/hyundai_i20/319.jpg  \n",
            "  inflating: training-testing/train/hyundai_i20/320.jpg  \n",
            "  inflating: training-testing/train/hyundai_i20/321.jpg  \n",
            "  inflating: training-testing/train/hyundai_i20/322.jpg  \n",
            "  inflating: training-testing/train/hyundai_i20/323.jpg  \n",
            "  inflating: training-testing/train/hyundai_i20/324.jpg  \n",
            "  inflating: training-testing/train/hyundai_i20/325.jpg  \n",
            "  inflating: training-testing/train/hyundai_i20/326.jpg  \n",
            "  inflating: training-testing/train/hyundai_i20/327.jpg  \n",
            "  inflating: training-testing/train/hyundai_i20/328.jpg  \n",
            "  inflating: training-testing/train/hyundai_i20/329.jpg  \n",
            "  inflating: training-testing/train/hyundai_i20/330.jpg  \n",
            "  inflating: training-testing/train/hyundai_i20/002.jpg  \n",
            "  inflating: training-testing/train/hyundai_i20/168.jpg  \n",
            "  inflating: training-testing/train/hyundai_i20/170.jpg  \n",
            "  inflating: training-testing/train/hyundai_i20/172.jpg  \n",
            "  inflating: training-testing/train/hyundai_i20/174.jpg  \n",
            "  inflating: training-testing/train/hyundai_i20/187.jpeg  \n",
            "  inflating: training-testing/train/hyundai_i20/006.jpg  \n",
            "  inflating: training-testing/train/hyundai_i20/008.jpg  \n",
            "  inflating: training-testing/train/hyundai_i20/016.jpg  \n",
            "  inflating: training-testing/train/hyundai_i20/004.jpg  \n",
            "  inflating: training-testing/train/hyundai_i20/021.jpg  \n",
            "  inflating: training-testing/train/hyundai_i20/102.jpg  \n",
            "  inflating: training-testing/train/hyundai_i20/104.jpg  \n",
            "  inflating: training-testing/train/hyundai_i20/023.jpeg  \n",
            "  inflating: training-testing/train/hyundai_i20/106.jpg  \n",
            "  inflating: training-testing/train/hyundai_i20/108.jpg  \n",
            "  inflating: training-testing/train/hyundai_i20/110.jpg  \n",
            "  inflating: training-testing/train/hyundai_i20/026.jpg  \n",
            "  inflating: training-testing/train/hyundai_i20/112.jpg  \n",
            "  inflating: training-testing/train/hyundai_i20/114.jpg  \n",
            "  inflating: training-testing/train/hyundai_i20/116.jpg  \n",
            "  inflating: training-testing/train/hyundai_i20/118.jpg  \n",
            "  inflating: training-testing/train/hyundai_i20/120.jpg  \n",
            "  inflating: training-testing/train/hyundai_i20/028.jpg  \n",
            "  inflating: training-testing/train/hyundai_i20/122.jpg  \n",
            "  inflating: training-testing/train/hyundai_i20/123.jpeg  \n",
            "  inflating: training-testing/train/hyundai_i20/126.jpg  \n",
            "  inflating: training-testing/train/hyundai_i20/128.jpg  \n",
            "  inflating: training-testing/train/hyundai_i20/130.jpg  \n",
            "  inflating: training-testing/train/hyundai_i20/132.jpg  \n",
            "  inflating: training-testing/train/hyundai_i20/134.jpg  \n",
            "  inflating: training-testing/train/hyundai_i20/030.jpg  \n",
            "  inflating: training-testing/train/hyundai_i20/136.jpg  \n",
            "  inflating: training-testing/train/hyundai_i20/138.jpg  \n",
            "  inflating: training-testing/train/hyundai_i20/139.jpeg  \n",
            "  inflating: training-testing/train/hyundai_i20/142.jpg  \n",
            "  inflating: training-testing/train/hyundai_i20/143.jpeg  \n",
            "  inflating: training-testing/train/hyundai_i20/146.jpg  \n",
            "  inflating: training-testing/train/hyundai_i20/032.jpg  \n",
            "  inflating: training-testing/train/hyundai_i20/148.jpg  \n",
            "  inflating: training-testing/train/hyundai_i20/150.jpg  \n",
            "  inflating: training-testing/train/hyundai_i20/033.jpg  \n",
            "  inflating: training-testing/train/hyundai_i20/152.jpg  \n",
            "  inflating: training-testing/train/hyundai_i20/154.jpg  \n",
            "  inflating: training-testing/train/hyundai_i20/036.jpg  \n",
            "  inflating: training-testing/train/hyundai_i20/156.jpg  \n",
            "  inflating: training-testing/train/hyundai_i20/158.jpg  \n",
            "  inflating: training-testing/train/hyundai_i20/160.jpg  \n",
            "  inflating: training-testing/train/hyundai_i20/038.jpg  \n",
            "  inflating: training-testing/train/hyundai_i20/162.jpg  \n",
            "  inflating: training-testing/train/hyundai_i20/164.jpg  \n",
            "  inflating: training-testing/train/hyundai_i20/166.jpg  \n",
            "  inflating: training-testing/train/hyundai_i20/176.jpg  \n",
            "  inflating: training-testing/train/hyundai_i20/040.jpg  \n",
            "  inflating: training-testing/train/hyundai_i20/178.jpg  \n",
            "  inflating: training-testing/train/hyundai_i20/180.jpg  \n",
            "  inflating: training-testing/train/hyundai_i20/182.jpg  \n",
            "  inflating: training-testing/train/hyundai_i20/184.jpg  \n",
            "  inflating: training-testing/train/hyundai_i20/186.jpg  \n",
            "  inflating: training-testing/train/hyundai_i20/042.jpg  \n",
            "  inflating: training-testing/train/hyundai_i20/044.jpg  \n",
            "  inflating: training-testing/train/hyundai_i20/046.jpg  \n",
            "  inflating: training-testing/train/hyundai_i20/048.jpg  \n",
            "  inflating: training-testing/train/hyundai_i20/050.jpg  \n",
            "  inflating: training-testing/train/hyundai_i20/052.jpg  \n",
            "  inflating: training-testing/train/hyundai_i20/054.jpg  \n",
            "  inflating: training-testing/train/hyundai_i20/056.jpg  \n",
            "  inflating: training-testing/train/hyundai_i20/010.jpg  \n",
            "  inflating: training-testing/train/hyundai_i20/058.jpg  \n",
            "  inflating: training-testing/train/hyundai_i20/060.jpg  \n",
            "  inflating: training-testing/train/hyundai_i20/012.jpg  \n",
            "  inflating: training-testing/train/hyundai_i20/062.jpg  \n",
            "  inflating: training-testing/train/hyundai_i20/064.jpg  \n",
            "  inflating: training-testing/train/hyundai_i20/066.jpg  \n",
            "  inflating: training-testing/train/hyundai_i20/014.jpg  \n",
            "  inflating: training-testing/train/hyundai_i20/068.jpg  \n",
            "  inflating: training-testing/train/hyundai_i20/070.jpg  \n",
            "  inflating: training-testing/train/hyundai_i20/072.jpg  \n",
            "  inflating: training-testing/train/hyundai_i20/074.jpg  \n",
            "  inflating: training-testing/train/hyundai_i20/076.jpg  \n",
            "  inflating: training-testing/train/hyundai_i20/078.jpg  \n",
            "  inflating: training-testing/train/hyundai_i20/080.jpg  \n",
            "  inflating: training-testing/train/hyundai_i20/082.jpg  \n",
            "  inflating: training-testing/train/hyundai_i20/018.jpg  \n",
            "  inflating: training-testing/train/hyundai_i20/084.jpg  \n",
            "  inflating: training-testing/train/hyundai_i20/086.jpg  \n",
            "  inflating: training-testing/train/hyundai_i20/088.jpg  \n",
            "  inflating: training-testing/train/hyundai_i20/020.jpg  \n",
            "  inflating: training-testing/train/hyundai_i20/090.jpg  \n",
            "  inflating: training-testing/train/hyundai_i20/092.jpg  \n",
            "  inflating: training-testing/train/hyundai_i20/093.jpg  \n",
            "  inflating: training-testing/train/hyundai_i20/096.jpg  \n",
            "  inflating: training-testing/train/hyundai_i20/098.jpg  \n",
            "  inflating: training-testing/train/hyundai_i20/100.jpg  \n"
          ],
          "name": "stdout"
        }
      ]
    },
    {
      "cell_type": "code",
      "metadata": {
        "id": "zKqqT1SZU-7V",
        "colab_type": "code",
        "outputId": "1b9c9f6f-b8e9-47f5-fe5b-e86a74875f3e",
        "colab": {
          "base_uri": "https://localhost:8080/",
          "height": 34
        }
      },
      "source": [
        "!ls"
      ],
      "execution_count": 0,
      "outputs": [
        {
          "output_type": "stream",
          "text": [
            "adc.json  sample_data  training-testing  training-testing.zip\n"
          ],
          "name": "stdout"
        }
      ]
    },
    {
      "cell_type": "code",
      "metadata": {
        "id": "hiWCe9weVFMQ",
        "colab_type": "code",
        "colab": {}
      },
      "source": [
        "os.chdir('training-testing')"
      ],
      "execution_count": 0,
      "outputs": []
    },
    {
      "cell_type": "code",
      "metadata": {
        "id": "FulS7TKhVJeY",
        "colab_type": "code",
        "outputId": "83eb812a-30c1-4993-f77a-3c6c3673d7d0",
        "colab": {
          "base_uri": "https://localhost:8080/",
          "height": 34
        }
      },
      "source": [
        "!ls"
      ],
      "execution_count": 0,
      "outputs": [
        {
          "output_type": "stream",
          "text": [
            "test  train\n"
          ],
          "name": "stdout"
        }
      ]
    },
    {
      "cell_type": "code",
      "metadata": {
        "id": "5TrT4wIWVOPe",
        "colab_type": "code",
        "outputId": "71f8e969-4be3-490e-c0b4-172fceb2ae79",
        "colab": {
          "base_uri": "https://localhost:8080/",
          "height": 81
        }
      },
      "source": [
        "import matplotlib.pyplot as plt\n",
        "import cv2\n",
        "import numpy as np\n",
        "import keras"
      ],
      "execution_count": 0,
      "outputs": [
        {
          "output_type": "stream",
          "text": [
            "Using TensorFlow backend.\n"
          ],
          "name": "stderr"
        },
        {
          "output_type": "display_data",
          "data": {
            "text/html": [
              "<p style=\"color: red;\">\n",
              "The default version of TensorFlow in Colab will soon switch to TensorFlow 2.x.<br>\n",
              "We recommend you <a href=\"https://www.tensorflow.org/guide/migrate\" target=\"_blank\">upgrade</a> now \n",
              "or ensure your notebook will continue to use TensorFlow 1.x via the <code>%tensorflow_version 1.x</code> magic:\n",
              "<a href=\"https://colab.research.google.com/notebooks/tensorflow_version.ipynb\" target=\"_blank\">more info</a>.</p>\n"
            ],
            "text/plain": [
              "<IPython.core.display.HTML object>"
            ]
          },
          "metadata": {
            "tags": []
          }
        }
      ]
    },
    {
      "cell_type": "code",
      "metadata": {
        "id": "1WKhWsrzVRyS",
        "colab_type": "code",
        "colab": {}
      },
      "source": [
        "from keras.layers import Conv2D, MaxPooling2D, Flatten, Dense, Dropout, InputLayer\n",
        "from keras.models import Sequential\n",
        "from keras import optimizers\n",
        "from keras.preprocessing.image import ImageDataGenerator"
      ],
      "execution_count": 0,
      "outputs": []
    },
    {
      "cell_type": "code",
      "metadata": {
        "id": "knMuX8t5VWWx",
        "colab_type": "code",
        "colab": {}
      },
      "source": [
        "image_datagen = ImageDataGenerator(rescale=1./255, zoom_range=0.3, rotation_range=40,\n",
        "                                   width_shift_range=0.2, height_shift_range=0.2, shear_range=0.2, \n",
        "                                   horizontal_flip=True)\n",
        "#val_datagen = ImageDataGenerator(rescale=1./255)"
      ],
      "execution_count": 0,
      "outputs": []
    },
    {
      "cell_type": "code",
      "metadata": {
        "id": "mOGyfxdvVYXy",
        "colab_type": "code",
        "outputId": "e8a12344-3b2e-48f3-a310-ca11a5aa2485",
        "colab": {
          "base_uri": "https://localhost:8080/",
          "height": 52
        }
      },
      "source": [
        "train_datagen = image_datagen.flow_from_directory('train/', target_size=(256,256),batch_size=32,class_mode='categorical')\n",
        "val_datagen = image_datagen.flow_from_directory('test/',target_size=(256,256),batch_size=16,class_mode='categorical')"
      ],
      "execution_count": 0,
      "outputs": [
        {
          "output_type": "stream",
          "text": [
            "Found 640 images belonging to 2 classes.\n",
            "Found 51 images belonging to 2 classes.\n"
          ],
          "name": "stdout"
        }
      ]
    },
    {
      "cell_type": "code",
      "metadata": {
        "id": "QZ6csSV8Vb-c",
        "colab_type": "code",
        "outputId": "c2732c36-040f-4d72-d5e6-c85a7a342d86",
        "colab": {
          "base_uri": "https://localhost:8080/",
          "height": 419
        }
      },
      "source": [
        "import keras\n",
        "from keras.applications import vgg16\n",
        "from keras.models import Model\n",
        "vgg = vgg16.VGG16(include_top=False, weights='imagenet', \n",
        "                                     input_shape=(256,256,3))\n",
        "output = vgg.layers[-1].output\n",
        "output = keras.layers.Flatten()(output)\n",
        "vgg_model = Model(vgg.input, output)\n",
        "\n",
        "vgg_model.trainable = False\n",
        "for layer in vgg_model.layers:\n",
        "    layer.trainable = False\n",
        "\n",
        "# vgg_model.trainable = True\n",
        "\n",
        "# set_trainable = False\n",
        "# for layer in vgg_model.layers:\n",
        "#     if layer.name in ['block5_conv1', 'block4_conv1']:\n",
        "#         set_trainable = True\n",
        "#     if set_trainable:\n",
        "#         layer.trainable = True\n",
        "#     else:\n",
        "#         layer.trainable = False"
      ],
      "execution_count": 0,
      "outputs": [
        {
          "output_type": "stream",
          "text": [
            "WARNING:tensorflow:From /usr/local/lib/python3.6/dist-packages/keras/backend/tensorflow_backend.py:66: The name tf.get_default_graph is deprecated. Please use tf.compat.v1.get_default_graph instead.\n",
            "\n",
            "WARNING:tensorflow:From /usr/local/lib/python3.6/dist-packages/keras/backend/tensorflow_backend.py:541: The name tf.placeholder is deprecated. Please use tf.compat.v1.placeholder instead.\n",
            "\n",
            "WARNING:tensorflow:From /usr/local/lib/python3.6/dist-packages/keras/backend/tensorflow_backend.py:4432: The name tf.random_uniform is deprecated. Please use tf.random.uniform instead.\n",
            "\n",
            "WARNING:tensorflow:From /usr/local/lib/python3.6/dist-packages/keras/backend/tensorflow_backend.py:4267: The name tf.nn.max_pool is deprecated. Please use tf.nn.max_pool2d instead.\n",
            "\n",
            "Downloading data from https://github.com/fchollet/deep-learning-models/releases/download/v0.1/vgg16_weights_tf_dim_ordering_tf_kernels_notop.h5\n",
            "58892288/58889256 [==============================] - 2s 0us/step\n",
            "WARNING:tensorflow:From /usr/local/lib/python3.6/dist-packages/keras/backend/tensorflow_backend.py:190: The name tf.get_default_session is deprecated. Please use tf.compat.v1.get_default_session instead.\n",
            "\n",
            "WARNING:tensorflow:From /usr/local/lib/python3.6/dist-packages/keras/backend/tensorflow_backend.py:197: The name tf.ConfigProto is deprecated. Please use tf.compat.v1.ConfigProto instead.\n",
            "\n",
            "WARNING:tensorflow:From /usr/local/lib/python3.6/dist-packages/keras/backend/tensorflow_backend.py:203: The name tf.Session is deprecated. Please use tf.compat.v1.Session instead.\n",
            "\n",
            "WARNING:tensorflow:From /usr/local/lib/python3.6/dist-packages/keras/backend/tensorflow_backend.py:207: The name tf.global_variables is deprecated. Please use tf.compat.v1.global_variables instead.\n",
            "\n",
            "WARNING:tensorflow:From /usr/local/lib/python3.6/dist-packages/keras/backend/tensorflow_backend.py:216: The name tf.is_variable_initialized is deprecated. Please use tf.compat.v1.is_variable_initialized instead.\n",
            "\n",
            "WARNING:tensorflow:From /usr/local/lib/python3.6/dist-packages/keras/backend/tensorflow_backend.py:223: The name tf.variables_initializer is deprecated. Please use tf.compat.v1.variables_initializer instead.\n",
            "\n"
          ],
          "name": "stdout"
        }
      ]
    },
    {
      "cell_type": "code",
      "metadata": {
        "id": "Cwd0NEroVf9W",
        "colab_type": "code",
        "outputId": "dd6ebd18-7a96-4a5d-b056-2add01ea3975",
        "colab": {
          "base_uri": "https://localhost:8080/",
          "height": 851
        }
      },
      "source": [
        "\n",
        "\n",
        "\n",
        "vgg_model.summary()"
      ],
      "execution_count": 0,
      "outputs": [
        {
          "output_type": "stream",
          "text": [
            "Model: \"model_1\"\n",
            "_________________________________________________________________\n",
            "Layer (type)                 Output Shape              Param #   \n",
            "=================================================================\n",
            "input_1 (InputLayer)         (None, 256, 256, 3)       0         \n",
            "_________________________________________________________________\n",
            "block1_conv1 (Conv2D)        (None, 256, 256, 64)      1792      \n",
            "_________________________________________________________________\n",
            "block1_conv2 (Conv2D)        (None, 256, 256, 64)      36928     \n",
            "_________________________________________________________________\n",
            "block1_pool (MaxPooling2D)   (None, 128, 128, 64)      0         \n",
            "_________________________________________________________________\n",
            "block2_conv1 (Conv2D)        (None, 128, 128, 128)     73856     \n",
            "_________________________________________________________________\n",
            "block2_conv2 (Conv2D)        (None, 128, 128, 128)     147584    \n",
            "_________________________________________________________________\n",
            "block2_pool (MaxPooling2D)   (None, 64, 64, 128)       0         \n",
            "_________________________________________________________________\n",
            "block3_conv1 (Conv2D)        (None, 64, 64, 256)       295168    \n",
            "_________________________________________________________________\n",
            "block3_conv2 (Conv2D)        (None, 64, 64, 256)       590080    \n",
            "_________________________________________________________________\n",
            "block3_conv3 (Conv2D)        (None, 64, 64, 256)       590080    \n",
            "_________________________________________________________________\n",
            "block3_pool (MaxPooling2D)   (None, 32, 32, 256)       0         \n",
            "_________________________________________________________________\n",
            "block4_conv1 (Conv2D)        (None, 32, 32, 512)       1180160   \n",
            "_________________________________________________________________\n",
            "block4_conv2 (Conv2D)        (None, 32, 32, 512)       2359808   \n",
            "_________________________________________________________________\n",
            "block4_conv3 (Conv2D)        (None, 32, 32, 512)       2359808   \n",
            "_________________________________________________________________\n",
            "block4_pool (MaxPooling2D)   (None, 16, 16, 512)       0         \n",
            "_________________________________________________________________\n",
            "block5_conv1 (Conv2D)        (None, 16, 16, 512)       2359808   \n",
            "_________________________________________________________________\n",
            "block5_conv2 (Conv2D)        (None, 16, 16, 512)       2359808   \n",
            "_________________________________________________________________\n",
            "block5_conv3 (Conv2D)        (None, 16, 16, 512)       2359808   \n",
            "_________________________________________________________________\n",
            "block5_pool (MaxPooling2D)   (None, 8, 8, 512)         0         \n",
            "_________________________________________________________________\n",
            "flatten_1 (Flatten)          (None, 32768)             0         \n",
            "=================================================================\n",
            "Total params: 14,714,688\n",
            "Trainable params: 0\n",
            "Non-trainable params: 14,714,688\n",
            "_________________________________________________________________\n"
          ],
          "name": "stdout"
        }
      ]
    },
    {
      "cell_type": "code",
      "metadata": {
        "id": "Vzeb5-rAVkbE",
        "colab_type": "code",
        "outputId": "9d84ae0d-be6c-46f5-89d8-61482b8049ae",
        "colab": {
          "base_uri": "https://localhost:8080/",
          "height": 364
        }
      },
      "source": [
        "for layer in vgg_model.layers:\n",
        "    print(layer.name)"
      ],
      "execution_count": 0,
      "outputs": [
        {
          "output_type": "stream",
          "text": [
            "input_1\n",
            "block1_conv1\n",
            "block1_conv2\n",
            "block1_pool\n",
            "block2_conv1\n",
            "block2_conv2\n",
            "block2_pool\n",
            "block3_conv1\n",
            "block3_conv2\n",
            "block3_conv3\n",
            "block3_pool\n",
            "block4_conv1\n",
            "block4_conv2\n",
            "block4_conv3\n",
            "block4_pool\n",
            "block5_conv1\n",
            "block5_conv2\n",
            "block5_conv3\n",
            "block5_pool\n",
            "flatten_1\n"
          ],
          "name": "stdout"
        }
      ]
    },
    {
      "cell_type": "code",
      "metadata": {
        "id": "0GF-pHRHVlRT",
        "colab_type": "code",
        "outputId": "4cfed4d8-04d1-4c0f-a62b-93a024ad401c",
        "colab": {
          "base_uri": "https://localhost:8080/",
          "height": 245
        }
      },
      "source": [
        "\n",
        "\n",
        "from keras.models import Sequential\n",
        "from keras.layers import Conv2D, MaxPooling2D, Dropout, Flatten, Dense, Activation, BatchNormalization\n",
        "model = Sequential()\n",
        "model.add(vgg_model)\n",
        "model.add(Dense(512, activation='relu', input_dim=(256,256,3)))\n",
        "model.add(Dropout(0.35))\n",
        "model.add(Dense(256, activation='relu'))\n",
        "model.add(BatchNormalization())\n",
        "model.add(Dropout(0.35))\n",
        "model.add(Dense(2, activation='sigmoid'))\n",
        "\n",
        "model.compile(loss='binary_crossentropy',\n",
        "              optimizer='Adam',\n",
        "              metrics=['accuracy'])"
      ],
      "execution_count": 0,
      "outputs": [
        {
          "output_type": "stream",
          "text": [
            "WARNING:tensorflow:From /usr/local/lib/python3.6/dist-packages/keras/backend/tensorflow_backend.py:148: The name tf.placeholder_with_default is deprecated. Please use tf.compat.v1.placeholder_with_default instead.\n",
            "\n",
            "WARNING:tensorflow:From /usr/local/lib/python3.6/dist-packages/keras/backend/tensorflow_backend.py:3733: calling dropout (from tensorflow.python.ops.nn_ops) with keep_prob is deprecated and will be removed in a future version.\n",
            "Instructions for updating:\n",
            "Please use `rate` instead of `keep_prob`. Rate should be set to `rate = 1 - keep_prob`.\n",
            "WARNING:tensorflow:From /usr/local/lib/python3.6/dist-packages/keras/optimizers.py:793: The name tf.train.Optimizer is deprecated. Please use tf.compat.v1.train.Optimizer instead.\n",
            "\n",
            "WARNING:tensorflow:From /usr/local/lib/python3.6/dist-packages/keras/backend/tensorflow_backend.py:3657: The name tf.log is deprecated. Please use tf.math.log instead.\n",
            "\n",
            "WARNING:tensorflow:From /usr/local/lib/python3.6/dist-packages/tensorflow_core/python/ops/nn_impl.py:183: where (from tensorflow.python.ops.array_ops) is deprecated and will be removed in a future version.\n",
            "Instructions for updating:\n",
            "Use tf.where in 2.0, which has the same broadcast rule as np.where\n"
          ],
          "name": "stdout"
        }
      ]
    },
    {
      "cell_type": "code",
      "metadata": {
        "id": "XUPS43GRVoM8",
        "colab_type": "code",
        "outputId": "e6ae667a-d603-44a1-c121-87500bd19bf6",
        "colab": {
          "base_uri": "https://localhost:8080/",
          "height": 399
        }
      },
      "source": [
        "model.summary()"
      ],
      "execution_count": 0,
      "outputs": [
        {
          "output_type": "stream",
          "text": [
            "Model: \"sequential_1\"\n",
            "_________________________________________________________________\n",
            "Layer (type)                 Output Shape              Param #   \n",
            "=================================================================\n",
            "model_1 (Model)              (None, 32768)             14714688  \n",
            "_________________________________________________________________\n",
            "dense_1 (Dense)              (None, 512)               16777728  \n",
            "_________________________________________________________________\n",
            "dropout_1 (Dropout)          (None, 512)               0         \n",
            "_________________________________________________________________\n",
            "dense_2 (Dense)              (None, 256)               131328    \n",
            "_________________________________________________________________\n",
            "batch_normalization_1 (Batch (None, 256)               1024      \n",
            "_________________________________________________________________\n",
            "dropout_2 (Dropout)          (None, 256)               0         \n",
            "_________________________________________________________________\n",
            "dense_3 (Dense)              (None, 2)                 514       \n",
            "=================================================================\n",
            "Total params: 31,625,282\n",
            "Trainable params: 16,910,082\n",
            "Non-trainable params: 14,715,200\n",
            "_________________________________________________________________\n"
          ],
          "name": "stdout"
        }
      ]
    },
    {
      "cell_type": "code",
      "metadata": {
        "id": "fDPlvs-nVqY1",
        "colab_type": "code",
        "colab": {}
      },
      "source": [
        "import warnings\n",
        "warnings.filterwarnings('ignore')"
      ],
      "execution_count": 0,
      "outputs": []
    },
    {
      "cell_type": "code",
      "metadata": {
        "id": "_akI0qFWVsS0",
        "colab_type": "code",
        "outputId": "90c9ee47-58bb-4f94-d534-77c07963465b",
        "colab": {
          "base_uri": "https://localhost:8080/",
          "height": 1000
        }
      },
      "source": [
        "results = model.fit_generator(train_datagen,epochs=100,\n",
        "                              steps_per_epoch=18,\n",
        "                              validation_data=val_datagen,\n",
        "                             validation_steps=10)"
      ],
      "execution_count": 0,
      "outputs": [
        {
          "output_type": "stream",
          "text": [
            "WARNING:tensorflow:From /usr/local/lib/python3.6/dist-packages/keras/backend/tensorflow_backend.py:1033: The name tf.assign_add is deprecated. Please use tf.compat.v1.assign_add instead.\n",
            "\n",
            "WARNING:tensorflow:From /usr/local/lib/python3.6/dist-packages/keras/backend/tensorflow_backend.py:1020: The name tf.assign is deprecated. Please use tf.compat.v1.assign instead.\n",
            "\n",
            "Epoch 1/100\n",
            "18/18 [==============================] - 19s 1s/step - loss: 0.8931 - acc: 0.5295 - val_loss: 0.6665 - val_acc: 0.5896\n",
            "Epoch 2/100\n",
            "18/18 [==============================] - 15s 855ms/step - loss: 0.7995 - acc: 0.5443 - val_loss: 0.7195 - val_acc: 0.5372\n",
            "Epoch 3/100\n",
            "18/18 [==============================] - 16s 865ms/step - loss: 0.8154 - acc: 0.5295 - val_loss: 0.6598 - val_acc: 0.6082\n",
            "Epoch 4/100\n",
            "18/18 [==============================] - 15s 814ms/step - loss: 0.7799 - acc: 0.5608 - val_loss: 0.6367 - val_acc: 0.6570\n",
            "Epoch 5/100\n",
            "18/18 [==============================] - 14s 781ms/step - loss: 0.7928 - acc: 0.5608 - val_loss: 0.6292 - val_acc: 0.6418\n",
            "Epoch 6/100\n",
            "18/18 [==============================] - 16s 877ms/step - loss: 0.7261 - acc: 0.5894 - val_loss: 0.6133 - val_acc: 0.7190\n",
            "Epoch 7/100\n",
            "18/18 [==============================] - 14s 796ms/step - loss: 0.7212 - acc: 0.5842 - val_loss: 0.6270 - val_acc: 0.6269\n",
            "Epoch 8/100\n",
            "18/18 [==============================] - 15s 858ms/step - loss: 0.7106 - acc: 0.5990 - val_loss: 0.5941 - val_acc: 0.6901\n",
            "Epoch 9/100\n",
            "18/18 [==============================] - 14s 794ms/step - loss: 0.6702 - acc: 0.6250 - val_loss: 0.5862 - val_acc: 0.6791\n",
            "Epoch 10/100\n",
            "18/18 [==============================] - 15s 855ms/step - loss: 0.6770 - acc: 0.6337 - val_loss: 0.6082 - val_acc: 0.6653\n",
            "Epoch 11/100\n",
            "18/18 [==============================] - 14s 790ms/step - loss: 0.6290 - acc: 0.6606 - val_loss: 0.6771 - val_acc: 0.5896\n",
            "Epoch 12/100\n",
            "18/18 [==============================] - 16s 905ms/step - loss: 0.6049 - acc: 0.6840 - val_loss: 0.5726 - val_acc: 0.6736\n",
            "Epoch 13/100\n",
            "18/18 [==============================] - 14s 803ms/step - loss: 0.6128 - acc: 0.6701 - val_loss: 0.5676 - val_acc: 0.7276\n",
            "Epoch 14/100\n",
            "18/18 [==============================] - 15s 821ms/step - loss: 0.6362 - acc: 0.6441 - val_loss: 0.5957 - val_acc: 0.6736\n",
            "Epoch 15/100\n",
            "18/18 [==============================] - 15s 814ms/step - loss: 0.5686 - acc: 0.7266 - val_loss: 0.4982 - val_acc: 0.7799\n",
            "Epoch 16/100\n",
            "18/18 [==============================] - 15s 844ms/step - loss: 0.5811 - acc: 0.7057 - val_loss: 0.5785 - val_acc: 0.7107\n",
            "Epoch 17/100\n",
            "18/18 [==============================] - 14s 803ms/step - loss: 0.5237 - acc: 0.7535 - val_loss: 0.5214 - val_acc: 0.7463\n",
            "Epoch 18/100\n",
            "18/18 [==============================] - 15s 826ms/step - loss: 0.5332 - acc: 0.7352 - val_loss: 0.5351 - val_acc: 0.7355\n",
            "Epoch 19/100\n",
            "18/18 [==============================] - 15s 822ms/step - loss: 0.5235 - acc: 0.7422 - val_loss: 0.5576 - val_acc: 0.6978\n",
            "Epoch 20/100\n",
            "18/18 [==============================] - 15s 839ms/step - loss: 0.5362 - acc: 0.7161 - val_loss: 0.5701 - val_acc: 0.6777\n",
            "Epoch 21/100\n",
            "18/18 [==============================] - 14s 784ms/step - loss: 0.5579 - acc: 0.7326 - val_loss: 0.5423 - val_acc: 0.7276\n",
            "Epoch 22/100\n",
            "18/18 [==============================] - 16s 868ms/step - loss: 0.5330 - acc: 0.7335 - val_loss: 0.5067 - val_acc: 0.7645\n",
            "Epoch 23/100\n",
            "18/18 [==============================] - 15s 810ms/step - loss: 0.5314 - acc: 0.7248 - val_loss: 0.5082 - val_acc: 0.7351\n",
            "Epoch 24/100\n",
            "18/18 [==============================] - 15s 843ms/step - loss: 0.5353 - acc: 0.7292 - val_loss: 0.4421 - val_acc: 0.8017\n",
            "Epoch 25/100\n",
            "18/18 [==============================] - 15s 818ms/step - loss: 0.5068 - acc: 0.7431 - val_loss: 0.6267 - val_acc: 0.6754\n",
            "Epoch 26/100\n",
            "18/18 [==============================] - 15s 822ms/step - loss: 0.5650 - acc: 0.7109 - val_loss: 0.4844 - val_acc: 0.7686\n",
            "Epoch 27/100\n",
            "18/18 [==============================] - 15s 834ms/step - loss: 0.5047 - acc: 0.7422 - val_loss: 0.4984 - val_acc: 0.7687\n",
            "Epoch 28/100\n",
            "18/18 [==============================] - 15s 824ms/step - loss: 0.5201 - acc: 0.7448 - val_loss: 0.6281 - val_acc: 0.6736\n",
            "Epoch 29/100\n",
            "18/18 [==============================] - 15s 845ms/step - loss: 0.4960 - acc: 0.7431 - val_loss: 0.5039 - val_acc: 0.7687\n",
            "Epoch 30/100\n",
            "18/18 [==============================] - 14s 800ms/step - loss: 0.5091 - acc: 0.7405 - val_loss: 0.4786 - val_acc: 0.7521\n",
            "Epoch 31/100\n",
            "18/18 [==============================] - 14s 782ms/step - loss: 0.4924 - acc: 0.7595 - val_loss: 0.5203 - val_acc: 0.7500\n",
            "Epoch 32/100\n",
            "18/18 [==============================] - 16s 885ms/step - loss: 0.4729 - acc: 0.7708 - val_loss: 0.5192 - val_acc: 0.7438\n",
            "Epoch 33/100\n",
            "18/18 [==============================] - 15s 834ms/step - loss: 0.4817 - acc: 0.7656 - val_loss: 0.4921 - val_acc: 0.7575\n",
            "Epoch 34/100\n",
            "18/18 [==============================] - 14s 799ms/step - loss: 0.4917 - acc: 0.7630 - val_loss: 0.5124 - val_acc: 0.7438\n",
            "Epoch 35/100\n",
            "18/18 [==============================] - 15s 829ms/step - loss: 0.4640 - acc: 0.7830 - val_loss: 0.5860 - val_acc: 0.6940\n",
            "Epoch 36/100\n",
            "18/18 [==============================] - 15s 843ms/step - loss: 0.4514 - acc: 0.7960 - val_loss: 0.4957 - val_acc: 0.7521\n",
            "Epoch 37/100\n",
            "18/18 [==============================] - 14s 797ms/step - loss: 0.4853 - acc: 0.7665 - val_loss: 0.5340 - val_acc: 0.7463\n",
            "Epoch 38/100\n",
            "18/18 [==============================] - 15s 825ms/step - loss: 0.4184 - acc: 0.8047 - val_loss: 0.4787 - val_acc: 0.7603\n",
            "Epoch 39/100\n",
            "18/18 [==============================] - 15s 833ms/step - loss: 0.4515 - acc: 0.7856 - val_loss: 0.4917 - val_acc: 0.7388\n",
            "Epoch 40/100\n",
            "18/18 [==============================] - 15s 819ms/step - loss: 0.4431 - acc: 0.7743 - val_loss: 0.5177 - val_acc: 0.7066\n",
            "Epoch 41/100\n",
            "18/18 [==============================] - 14s 786ms/step - loss: 0.4712 - acc: 0.7726 - val_loss: 0.4359 - val_acc: 0.7612\n",
            "Epoch 42/100\n",
            "18/18 [==============================] - 16s 886ms/step - loss: 0.4830 - acc: 0.7535 - val_loss: 0.4665 - val_acc: 0.7645\n",
            "Epoch 43/100\n",
            "18/18 [==============================] - 14s 781ms/step - loss: 0.4307 - acc: 0.7986 - val_loss: 0.4508 - val_acc: 0.7873\n",
            "Epoch 44/100\n",
            "18/18 [==============================] - 15s 838ms/step - loss: 0.4528 - acc: 0.7847 - val_loss: 0.4947 - val_acc: 0.7190\n",
            "Epoch 45/100\n",
            "18/18 [==============================] - 15s 846ms/step - loss: 0.4382 - acc: 0.7856 - val_loss: 0.5311 - val_acc: 0.7425\n",
            "Epoch 46/100\n",
            "18/18 [==============================] - 15s 816ms/step - loss: 0.4045 - acc: 0.8229 - val_loss: 0.4318 - val_acc: 0.7975\n",
            "Epoch 47/100\n",
            "18/18 [==============================] - 15s 833ms/step - loss: 0.4484 - acc: 0.7786 - val_loss: 0.4913 - val_acc: 0.7612\n",
            "Epoch 48/100\n",
            "18/18 [==============================] - 14s 803ms/step - loss: 0.4611 - acc: 0.7839 - val_loss: 0.4641 - val_acc: 0.7397\n",
            "Epoch 49/100\n",
            "18/18 [==============================] - 15s 814ms/step - loss: 0.4310 - acc: 0.7960 - val_loss: 0.4804 - val_acc: 0.7425\n",
            "Epoch 50/100\n",
            "18/18 [==============================] - 15s 836ms/step - loss: 0.4243 - acc: 0.7960 - val_loss: 0.4828 - val_acc: 0.7355\n",
            "Epoch 51/100\n",
            "18/18 [==============================] - 14s 789ms/step - loss: 0.4595 - acc: 0.7908 - val_loss: 0.4820 - val_acc: 0.7388\n",
            "Epoch 52/100\n",
            "18/18 [==============================] - 15s 860ms/step - loss: 0.4068 - acc: 0.8168 - val_loss: 0.4464 - val_acc: 0.7769\n",
            "Epoch 53/100\n",
            "18/18 [==============================] - 15s 813ms/step - loss: 0.4319 - acc: 0.7917 - val_loss: 0.4506 - val_acc: 0.7612\n",
            "Epoch 54/100\n",
            "18/18 [==============================] - 15s 848ms/step - loss: 0.4104 - acc: 0.8021 - val_loss: 0.5063 - val_acc: 0.7314\n",
            "Epoch 55/100\n",
            "18/18 [==============================] - 14s 796ms/step - loss: 0.4369 - acc: 0.7726 - val_loss: 0.4989 - val_acc: 0.7127\n",
            "Epoch 56/100\n",
            "18/18 [==============================] - 16s 877ms/step - loss: 0.4148 - acc: 0.8064 - val_loss: 0.5560 - val_acc: 0.7190\n",
            "Epoch 57/100\n",
            "18/18 [==============================] - 14s 762ms/step - loss: 0.4412 - acc: 0.7752 - val_loss: 0.4764 - val_acc: 0.7575\n",
            "Epoch 58/100\n",
            "18/18 [==============================] - 15s 855ms/step - loss: 0.4117 - acc: 0.8047 - val_loss: 0.4605 - val_acc: 0.7727\n",
            "Epoch 59/100\n",
            "18/18 [==============================] - 15s 812ms/step - loss: 0.4109 - acc: 0.8090 - val_loss: 0.5213 - val_acc: 0.7724\n",
            "Epoch 60/100\n",
            "18/18 [==============================] - 15s 837ms/step - loss: 0.3891 - acc: 0.8177 - val_loss: 0.4221 - val_acc: 0.7975\n",
            "Epoch 61/100\n",
            "18/18 [==============================] - 14s 791ms/step - loss: 0.3688 - acc: 0.8411 - val_loss: 0.4508 - val_acc: 0.7836\n",
            "Epoch 62/100\n",
            "18/18 [==============================] - 15s 854ms/step - loss: 0.3624 - acc: 0.8368 - val_loss: 0.3957 - val_acc: 0.8017\n",
            "Epoch 63/100\n",
            "18/18 [==============================] - 15s 813ms/step - loss: 0.4076 - acc: 0.8064 - val_loss: 1.0680 - val_acc: 0.5896\n",
            "Epoch 64/100\n",
            "18/18 [==============================] - 16s 867ms/step - loss: 0.4063 - acc: 0.7986 - val_loss: 0.5226 - val_acc: 0.7686\n",
            "Epoch 65/100\n",
            "18/18 [==============================] - 14s 793ms/step - loss: 0.4435 - acc: 0.7882 - val_loss: 0.4727 - val_acc: 0.7537\n",
            "Epoch 66/100\n",
            "18/18 [==============================] - 15s 846ms/step - loss: 0.4258 - acc: 0.7908 - val_loss: 0.4925 - val_acc: 0.7273\n",
            "Epoch 67/100\n",
            "18/18 [==============================] - 14s 801ms/step - loss: 0.3637 - acc: 0.8377 - val_loss: 0.5047 - val_acc: 0.7201\n",
            "Epoch 68/100\n",
            "18/18 [==============================] - 15s 843ms/step - loss: 0.3838 - acc: 0.8212 - val_loss: 0.4471 - val_acc: 0.7851\n",
            "Epoch 69/100\n",
            "18/18 [==============================] - 15s 817ms/step - loss: 0.4235 - acc: 0.8134 - val_loss: 0.5157 - val_acc: 0.7500\n",
            "Epoch 70/100\n",
            "18/18 [==============================] - 15s 820ms/step - loss: 0.4225 - acc: 0.7934 - val_loss: 0.4855 - val_acc: 0.6901\n",
            "Epoch 71/100\n",
            "18/18 [==============================] - 14s 786ms/step - loss: 0.4079 - acc: 0.8056 - val_loss: 0.4136 - val_acc: 0.7985\n",
            "Epoch 72/100\n",
            "18/18 [==============================] - 16s 895ms/step - loss: 0.3783 - acc: 0.8229 - val_loss: 0.4771 - val_acc: 0.7686\n",
            "Epoch 73/100\n",
            "18/18 [==============================] - 14s 784ms/step - loss: 0.4308 - acc: 0.8021 - val_loss: 0.4335 - val_acc: 0.8134\n",
            "Epoch 74/100\n",
            "18/18 [==============================] - 15s 852ms/step - loss: 0.4138 - acc: 0.7943 - val_loss: 0.5087 - val_acc: 0.7190\n",
            "Epoch 75/100\n",
            "18/18 [==============================] - 15s 819ms/step - loss: 0.4125 - acc: 0.8064 - val_loss: 0.4874 - val_acc: 0.7687\n",
            "Epoch 76/100\n",
            "18/18 [==============================] - 14s 803ms/step - loss: 0.3845 - acc: 0.8160 - val_loss: 0.4347 - val_acc: 0.7934\n",
            "Epoch 77/100\n",
            "18/18 [==============================] - 15s 822ms/step - loss: 0.4238 - acc: 0.8030 - val_loss: 0.4534 - val_acc: 0.7351\n",
            "Epoch 78/100\n",
            "18/18 [==============================] - 15s 844ms/step - loss: 0.3890 - acc: 0.8116 - val_loss: 0.5415 - val_acc: 0.7190\n",
            "Epoch 79/100\n",
            "18/18 [==============================] - 15s 806ms/step - loss: 0.4148 - acc: 0.8099 - val_loss: 0.4196 - val_acc: 0.8209\n",
            "Epoch 80/100\n",
            "18/18 [==============================] - 15s 829ms/step - loss: 0.4087 - acc: 0.7969 - val_loss: 0.4613 - val_acc: 0.7810\n",
            "Epoch 81/100\n",
            "18/18 [==============================] - 14s 804ms/step - loss: 0.4194 - acc: 0.8030 - val_loss: 0.4040 - val_acc: 0.7985\n",
            "Epoch 82/100\n",
            "18/18 [==============================] - 15s 858ms/step - loss: 0.3729 - acc: 0.8273 - val_loss: 0.4695 - val_acc: 0.7851\n",
            "Epoch 83/100\n",
            "18/18 [==============================] - 15s 812ms/step - loss: 0.3971 - acc: 0.8012 - val_loss: 0.4395 - val_acc: 0.7836\n",
            "Epoch 84/100\n",
            "18/18 [==============================] - 16s 864ms/step - loss: 0.4152 - acc: 0.8108 - val_loss: 0.4783 - val_acc: 0.7975\n",
            "Epoch 85/100\n",
            "18/18 [==============================] - 15s 836ms/step - loss: 0.3517 - acc: 0.8368 - val_loss: 0.4227 - val_acc: 0.7948\n",
            "Epoch 86/100\n",
            "18/18 [==============================] - 15s 809ms/step - loss: 0.3813 - acc: 0.8134 - val_loss: 0.4473 - val_acc: 0.7810\n",
            "Epoch 87/100\n",
            "18/18 [==============================] - 15s 841ms/step - loss: 0.4337 - acc: 0.8064 - val_loss: 0.4311 - val_acc: 0.7761\n",
            "Epoch 88/100\n",
            "18/18 [==============================] - 15s 814ms/step - loss: 0.3764 - acc: 0.8177 - val_loss: 0.4451 - val_acc: 0.7769\n",
            "Epoch 89/100\n",
            "18/18 [==============================] - 14s 787ms/step - loss: 0.4154 - acc: 0.7865 - val_loss: 0.5097 - val_acc: 0.7351\n",
            "Epoch 90/100\n",
            "18/18 [==============================] - 15s 857ms/step - loss: 0.4204 - acc: 0.7891 - val_loss: 0.4560 - val_acc: 0.7273\n",
            "Epoch 91/100\n",
            "18/18 [==============================] - 14s 777ms/step - loss: 0.3399 - acc: 0.8238 - val_loss: 0.5388 - val_acc: 0.7313\n",
            "Epoch 92/100\n",
            "18/18 [==============================] - 15s 859ms/step - loss: 0.3595 - acc: 0.8403 - val_loss: 0.4304 - val_acc: 0.8058\n",
            "Epoch 93/100\n",
            "18/18 [==============================] - 15s 853ms/step - loss: 0.4001 - acc: 0.8108 - val_loss: 0.4274 - val_acc: 0.7985\n",
            "Epoch 94/100\n",
            "18/18 [==============================] - 15s 823ms/step - loss: 0.3518 - acc: 0.8403 - val_loss: 0.5105 - val_acc: 0.7521\n",
            "Epoch 95/100\n",
            "18/18 [==============================] - 14s 786ms/step - loss: 0.4161 - acc: 0.8238 - val_loss: 0.4623 - val_acc: 0.7687\n",
            "Epoch 96/100\n",
            "18/18 [==============================] - 15s 850ms/step - loss: 0.4423 - acc: 0.7882 - val_loss: 0.4443 - val_acc: 0.8099\n",
            "Epoch 97/100\n",
            "18/18 [==============================] - 16s 894ms/step - loss: 0.3979 - acc: 0.8047 - val_loss: 0.4540 - val_acc: 0.8134\n",
            "Epoch 98/100\n",
            "18/18 [==============================] - 14s 793ms/step - loss: 0.3762 - acc: 0.8264 - val_loss: 0.4758 - val_acc: 0.7603\n",
            "Epoch 99/100\n",
            "18/18 [==============================] - 14s 791ms/step - loss: 0.4148 - acc: 0.7960 - val_loss: 0.4831 - val_acc: 0.7873\n",
            "Epoch 100/100\n",
            "18/18 [==============================] - 15s 835ms/step - loss: 0.3823 - acc: 0.8220 - val_loss: 0.3900 - val_acc: 0.8512\n"
          ],
          "name": "stdout"
        }
      ]
    },
    {
      "cell_type": "code",
      "metadata": {
        "id": "lE1kwr71VwVw",
        "colab_type": "code",
        "colab": {}
      },
      "source": [
        "import numpy as np\n",
        "x = np.arange(0,100)\n",
        "y = results.history['loss']\n",
        "y1 = results.history['acc']\n",
        "y2 = results.history['val_acc']\n",
        "y3 = results.history['val_loss']"
      ],
      "execution_count": 0,
      "outputs": []
    },
    {
      "cell_type": "code",
      "metadata": {
        "id": "MWrgMRWUVwS-",
        "colab_type": "code",
        "outputId": "cf03e4a3-0870-4243-e4a1-f09f77047c1a",
        "colab": {
          "base_uri": "https://localhost:8080/",
          "height": 459
        }
      },
      "source": [
        "fig = plt.figure(figsize=(10,7))\n",
        "plt.plot(x,y1,c='r',label='acc')\n",
        "plt.plot(x,y2,c='b',label='val_acc')\n",
        "plt.xlabel('epochs')\n",
        "plt.legend()"
      ],
      "execution_count": 0,
      "outputs": [
        {
          "output_type": "execute_result",
          "data": {
            "text/plain": [
              "<matplotlib.legend.Legend at 0x7ff67d4104e0>"
            ]
          },
          "metadata": {
            "tags": []
          },
          "execution_count": 24
        },
        {
          "output_type": "display_data",
          "data": {
            "image/png": "[encoded data removed]",
            "text/plain": [
              "<Figure size 720x504 with 1 Axes>"
            ]
          },
          "metadata": {
            "tags": []
          }
        }
      ]
    },
    {
      "cell_type": "code",
      "metadata": {
        "id": "5JeuYW7iVwPp",
        "colab_type": "code",
        "outputId": "75782ab1-d106-4e51-87c2-4b759b3a7a06",
        "colab": {
          "base_uri": "https://localhost:8080/",
          "height": 461
        }
      },
      "source": [
        "fig = plt.figure(figsize=(10,7))\n",
        "plt.plot(x,y,c='r',label='loss')\n",
        "plt.plot(x,y3,c='b',label='val_loss')\n",
        "plt.xlabel('epochs')\n",
        "plt.legend()"
      ],
      "execution_count": 0,
      "outputs": [
        {
          "output_type": "execute_result",
          "data": {
            "text/plain": [
              "<matplotlib.legend.Legend at 0x7ff67cef2a58>"
            ]
          },
          "metadata": {
            "tags": []
          },
          "execution_count": 25
        },
        {
          "output_type": "display_data",
          "data": {
            "image/png": "[encoded data removed]",
            "text/plain": [
              "<Figure size 720x504 with 1 Axes>"
            ]
          },
          "metadata": {
            "tags": []
          }
        }
      ]
    },
    {
      "cell_type": "code",
      "metadata": {
        "id": "itZMKqDDVwMJ",
        "colab_type": "code",
        "colab": {}
      },
      "source": [
        "classes = []\n",
        "for key in train_datagen.class_indices:\n",
        "    classes.append(key)"
      ],
      "execution_count": 0,
      "outputs": []
    },
    {
      "cell_type": "code",
      "metadata": {
        "id": "-AZ9BtzJVwI6",
        "colab_type": "code",
        "outputId": "fd41bf3a-0b27-4180-a83f-c99638cbac94",
        "colab": {
          "base_uri": "https://localhost:8080/",
          "height": 34
        }
      },
      "source": [
        "train_datagen.class_indices"
      ],
      "execution_count": 0,
      "outputs": [
        {
          "output_type": "execute_result",
          "data": {
            "text/plain": [
              "{'hyundai_i10': 0, 'hyundai_i20': 1}"
            ]
          },
          "metadata": {
            "tags": []
          },
          "execution_count": 27
        }
      ]
    },
    {
      "cell_type": "code",
      "metadata": {
        "id": "VGbe79xmVv0x",
        "colab_type": "code",
        "colab": {}
      },
      "source": [
        "from keras.preprocessing import image"
      ],
      "execution_count": 0,
      "outputs": []
    },
    {
      "cell_type": "code",
      "metadata": {
        "id": "jHTwY5XzWB4k",
        "colab_type": "code",
        "colab": {}
      },
      "source": [
        "#file = 'hyundai_cars/test/hyundai_i10_grand_exterior/72.jpg'\n",
        "#file = 'hyundai_cars/test/hyundai_i10_grand_nios/89.jpg'\n",
        "file = \"/content/training-testing/index.jpeg\"\n",
        "#file = 'hyundai_cars/test/hyundai_i20_elite/97.jpg'"
      ],
      "execution_count": 0,
      "outputs": []
    },
    {
      "cell_type": "code",
      "metadata": {
        "id": "F7ek-7AMWB1P",
        "colab_type": "code",
        "outputId": "addfdb2d-bb09-4320-881f-437011f212bd",
        "colab": {
          "base_uri": "https://localhost:8080/",
          "height": 34
        }
      },
      "source": [
        "img = image.load_img(file, target_size=(256,256))\n",
        "\n",
        "img = image.img_to_array(img)\n",
        "\n",
        "img = np.expand_dims(img, axis=0)\n",
        "img = img/255\n",
        "\n",
        "pred = model.predict_classes(img)\n",
        "\n",
        "classes[pred[0]]"
      ],
      "execution_count": 0,
      "outputs": [
        {
          "output_type": "execute_result",
          "data": {
            "text/plain": [
              "'hyundai_i20'"
            ]
          },
          "metadata": {
            "tags": []
          },
          "execution_count": 35
        }
      ]
    },
    {
      "cell_type": "code",
      "metadata": {
        "id": "SsCLna8ArXDJ",
        "colab_type": "code",
        "colab": {}
      },
      "source": [
        ""
      ],
      "execution_count": 0,
      "outputs": []
    },
    {
      "cell_type": "code",
      "metadata": {
        "id": "fxyZCnJrraW_",
        "colab_type": "code",
        "colab": {}
      },
      "source": [
        ""
      ],
      "execution_count": 0,
      "outputs": []
    },
    {
      "cell_type": "code",
      "metadata": {
        "id": "FuE8z0aUWBwg",
        "colab_type": "code",
        "colab": {}
      },
      "source": [
        "model.save('vgg_fine_tuned-2.h5')"
      ],
      "execution_count": 0,
      "outputs": []
    },
    {
      "cell_type": "code",
      "metadata": {
        "id": "j2cqjNDmWBsU",
        "colab_type": "code",
        "colab": {}
      },
      "source": [
        "file = \"images.jpeg\" "
      ],
      "execution_count": 0,
      "outputs": []
    },
    {
      "cell_type": "code",
      "metadata": {
        "id": "0_1JeW_ksC9O",
        "colab_type": "code",
        "outputId": "f49f6088-7cdd-4c78-9a7e-5b1c59bbacd9",
        "colab": {
          "base_uri": "https://localhost:8080/",
          "height": 34
        }
      },
      "source": [
        "img = image.load_img(file, target_size=(256,256))\n",
        "\n",
        "img = image.img_to_array(img)\n",
        "\n",
        "img = np.expand_dims(img, axis=0)\n",
        "img = img/255\n",
        "\n",
        "pred = model.predict_classes(img)\n",
        "\n",
        "classes[pred[0]]"
      ],
      "execution_count": 0,
      "outputs": [
        {
          "output_type": "execute_result",
          "data": {
            "text/plain": [
              "'hyundai_i10'"
            ]
          },
          "metadata": {
            "tags": []
          },
          "execution_count": 323
        }
      ]
    },
    {
      "cell_type": "code",
      "metadata": {
        "id": "krS8e9axsMsv",
        "colab_type": "code",
        "outputId": "81fe3960-5ce0-4930-b174-c41bebd64566",
        "colab": {
          "base_uri": "https://localhost:8080/",
          "height": 34
        }
      },
      "source": [
        "!ls"
      ],
      "execution_count": 0,
      "outputs": [
        {
          "output_type": "stream",
          "text": [
            "test  train  vgg_fine_tuned.h5\n"
          ],
          "name": "stdout"
        }
      ]
    },
    {
      "cell_type": "code",
      "metadata": {
        "id": "VdiKaHaoutH-",
        "colab_type": "code",
        "colab": {}
      },
      "source": [
        "file = \"collison.jpg\" "
      ],
      "execution_count": 0,
      "outputs": []
    },
    {
      "cell_type": "code",
      "metadata": {
        "id": "TKXcmWC-uza2",
        "colab_type": "code",
        "outputId": "c212979e-6e8a-460e-f74c-9fd882d4da9f",
        "colab": {
          "base_uri": "https://localhost:8080/",
          "height": 34
        }
      },
      "source": [
        "img = image.load_img(file, target_size=(256,256))\n",
        "\n",
        "img = image.img_to_array(img)\n",
        "\n",
        "img = np.expand_dims(img, axis=0)\n",
        "img = img/255\n",
        "\n",
        "pred = model.predict_classes(img)\n",
        "\n",
        "classes[pred[0]]"
      ],
      "execution_count": 0,
      "outputs": [
        {
          "output_type": "execute_result",
          "data": {
            "text/plain": [
              "'hyundai_i10'"
            ]
          },
          "metadata": {
            "tags": []
          },
          "execution_count": 325
        }
      ]
    },
    {
      "cell_type": "code",
      "metadata": {
        "id": "MVQ9le63w-BU",
        "colab_type": "code",
        "colab": {}
      },
      "source": [
        "file = \"/content/training-testing/test/hyundai_i20/241.jpg\" \n"
      ],
      "execution_count": 0,
      "outputs": []
    },
    {
      "cell_type": "code",
      "metadata": {
        "id": "jfCsoJUPxgPj",
        "colab_type": "code",
        "outputId": "1e5503ec-24a6-4bc7-ea6b-c9151b3544cc",
        "colab": {
          "base_uri": "https://localhost:8080/",
          "height": 34
        }
      },
      "source": [
        "img = image.load_img(file, target_size=(256,256))\n",
        "\n",
        "img = image.img_to_array(img)\n",
        "\n",
        "img = np.expand_dims(img, axis=0)\n",
        "img = img/255\n",
        "\n",
        "pred = model.predict_classes(img)\n",
        "\n",
        "classes[pred[0]]"
      ],
      "execution_count": 0,
      "outputs": [
        {
          "output_type": "execute_result",
          "data": {
            "text/plain": [
              "'hyundai_i20'"
            ]
          },
          "metadata": {
            "tags": []
          },
          "execution_count": 37
        }
      ]
    },
    {
      "cell_type": "code",
      "metadata": {
        "id": "sEnZGxKBxhV7",
        "colab_type": "code",
        "colab": {}
      },
      "source": [
        "file = \"/content/training-testing/hi20_active_2.jpeg\""
      ],
      "execution_count": 0,
      "outputs": []
    },
    {
      "cell_type": "code",
      "metadata": {
        "id": "uPkq7tr9TATx",
        "colab_type": "code",
        "outputId": "0338f131-b68a-4b56-a338-414cd1b0974b",
        "colab": {
          "base_uri": "https://localhost:8080/",
          "height": 34
        }
      },
      "source": [
        "img = image.load_img(file, target_size=(256,256))\n",
        "\n",
        "img = image.img_to_array(img)\n",
        "\n",
        "img = np.expand_dims(img, axis=0)\n",
        "img = img/255\n",
        "\n",
        "pred = model.predict_classes(img)\n",
        "\n",
        "classes[pred[0]]"
      ],
      "execution_count": 0,
      "outputs": [
        {
          "output_type": "execute_result",
          "data": {
            "text/plain": [
              "'hyundai_i20'"
            ]
          },
          "metadata": {
            "tags": []
          },
          "execution_count": 41
        }
      ]
    },
    {
      "cell_type": "code",
      "metadata": {
        "id": "dnP_k4zpTEHH",
        "colab_type": "code",
        "colab": {}
      },
      "source": [
        ""
      ],
      "execution_count": 0,
      "outputs": []
    }
  ]
}